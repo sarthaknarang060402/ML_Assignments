{
 "cells": [
  {
   "cell_type": "markdown",
   "id": "2da0904f",
   "metadata": {},
   "source": [
    "## Assignment 1 ML (Sarthak Narang , COE 19 , Roll No-102003627)"
   ]
  },
  {
   "cell_type": "code",
   "execution_count": 2,
   "id": "935f92c1",
   "metadata": {},
   "outputs": [],
   "source": [
    "import numpy as np"
   ]
  },
  {
   "cell_type": "markdown",
   "id": "0781c02c",
   "metadata": {},
   "source": [
    "# Q1"
   ]
  },
  {
   "cell_type": "code",
   "execution_count": 3,
   "id": "f77f68ab",
   "metadata": {},
   "outputs": [
    {
     "name": "stdout",
     "output_type": "stream",
     "text": [
      "[1 2 3 6 4 5]\n",
      "reversed [5 4 6 3 2 1]\n",
      "reversed [5 4 6 3 2 1]\n"
     ]
    }
   ],
   "source": [
    "# Q1a\n",
    "array1a = np.array([1,2,3,6,4,5])\n",
    "print(array1a)\n",
    "\n",
    "#method1\n",
    "reverse1=array1a[::-1]\n",
    "print(\"reversed\",reverse1)\n",
    "\n",
    "#method2\n",
    "reverse2=np.flipud(array1a)\n",
    "print(\"reversed\",reverse2)"
   ]
  },
  {
   "cell_type": "code",
   "execution_count": 5,
   "id": "0675d91b",
   "metadata": {},
   "outputs": [
    {
     "name": "stdout",
     "output_type": "stream",
     "text": [
      "[[1 2 3]\n",
      " [2 4 5]\n",
      " [1 2 3]]\n",
      "\n",
      "flattened [1 2 3 2 4 5 1 2 3]\n",
      "\n",
      "flattened [1 2 3 2 4 5 1 2 3]\n"
     ]
    }
   ],
   "source": [
    "# Q1b\n",
    "array1b = np.array([[1, 2, 3], [2, 4, 5], [1, 2, 3]])\n",
    "print(array1b)\n",
    "\n",
    "#method1\n",
    "flatten_array=array1b.flatten()\n",
    "print(\"\\nflattened\",flatten_array)\n",
    "\n",
    "#method2\n",
    "concatenated_array=np.concatenate(array1b)\n",
    "print(\"\\nflattened\",concatenated_array)"
   ]
  },
  {
   "cell_type": "code",
   "execution_count": 5,
   "id": "23d7a7ed",
   "metadata": {},
   "outputs": [
    {
     "name": "stdout",
     "output_type": "stream",
     "text": [
      "True\n",
      "True\n"
     ]
    }
   ],
   "source": [
    "# 1c\n",
    "arr1 = np.array([[1, 2], [3, 4]]) \n",
    "arr2 = np.array([[1, 2], [3, 4]])\n",
    "print(np.array_equal(arr1, arr2)) \n",
    "\n",
    "comparison_array=(arr1==arr2) #(True,True) will be in comparison\n",
    "is_equal=comparison_array.all() # .all() checks if all element of list are true and if yes , then it gives true\n",
    "print(is_equal)"
   ]
  },
  {
   "cell_type": "code",
   "execution_count": 6,
   "id": "2d941e0c",
   "metadata": {},
   "outputs": [
    {
     "name": "stdout",
     "output_type": "stream",
     "text": [
      "[1 2 3 4 5 1 2 1 1 1]\n",
      "value = 1\n",
      "Index = (array([0, 5, 7, 8, 9], dtype=int64),)\n",
      "[1 1 1 2 3 4 2 4 3 3]\n",
      "value = 1\n",
      "Index = (array([0, 1, 2], dtype=int64),)\n"
     ]
    }
   ],
   "source": [
    "# Q1d\n",
    "x = np.array([1,2,3,4,5,1,2,1,1,1])\n",
    "print(x)\n",
    "valuex=np.bincount(x).argmax()\n",
    "print(f'value = {valuex}' ) \n",
    "print(f'Index = {np.where(x==valuex)}')\n",
    "\n",
    "\n",
    "y = np.array([1, 1, 1, 2, 3, 4, 2, 4, 3, 3])\n",
    "print(y)\n",
    "valuey=np.bincount(y).argmax()\n",
    "print(f'value = {valuey}') \n",
    "print(f'Index = {np.where(y==valuey)}')"
   ]
  },
  {
   "cell_type": "code",
   "execution_count": 8,
   "id": "550fd201",
   "metadata": {},
   "outputs": [
    {
     "name": "stdout",
     "output_type": "stream",
     "text": [
      "[[ 4  1  9]\n",
      " [12  3  1]\n",
      " [ 4  5  6]] \n",
      "\n",
      "sum_of_all\n",
      " 45\n",
      "sum_row_wise\n",
      " [[20  9 16]]\n",
      "sum_collumn_wise\n",
      " [[14]\n",
      " [16]\n",
      " [15]]\n"
     ]
    }
   ],
   "source": [
    "# Q1e\n",
    "gfg = np.matrix('[4, 1, 9; 12, 3, 1; 4, 5, 6]')\n",
    "print(gfg,\"\\n\")\n",
    "sum_of_all=gfg.sum()\n",
    "sum_row_wise=gfg.sum(axis=0)\n",
    "sum_collumn_wise=gfg.sum(axis=1)\n",
    "\n",
    "print(\"sum_of_all\\n\",sum_of_all)\n",
    "\n",
    "print(\"sum_row_wise\\n\",sum_row_wise)\n",
    "\n",
    "print(\"sum_collumn_wise\\n\",sum_collumn_wise)"
   ]
  },
  {
   "cell_type": "code",
   "execution_count": 8,
   "id": "75b2a044",
   "metadata": {},
   "outputs": [
    {
     "name": "stdout",
     "output_type": "stream",
     "text": [
      "sum of diagnol elements is 176\n",
      "\n",
      "eigen values are\n",
      "[98.16835147 28.097044   49.73460452]\n",
      "\n",
      "eigen vectors are\n",
      " [[ 0.4574917   0.34637121 -0.15017693]\n",
      " [ 0.28447814 -0.72784061 -0.4852124 ]\n",
      " [ 0.84248058  0.59184038  0.8614034 ]]\n",
      "\n",
      "inverse of matrix\n",
      "[[ 0.02404141 -0.00911212 -0.00444671]\n",
      " [-0.01667882  0.02966905  0.0024785 ]\n",
      " [ 0.00631287 -0.01603732  0.01217379]]\n",
      "\n",
      "determinant = 137180.0000000001\n",
      "\n"
     ]
    }
   ],
   "source": [
    "# Q1f\n",
    "n_array = np.array([[55, 25, 15],\n",
    "                    [30, 44, 2],\n",
    "                    [11, 45, 77]])\n",
    "sdiag = np.trace(n_array)\n",
    "print(f'sum of diagnol elements is {sdiag}\\n')\n",
    "\n",
    "w, v = np.linalg.eig(n_array)\n",
    "print(f'eigen values are\\n{w}\\n')\n",
    "print(f'eigen vectors are\\n {v}\\n')\n",
    "\n",
    "print (f'inverse of matrix\\n{np.linalg.inv(n_array)}\\n')\n",
    "print (f'determinant = {np.linalg.det(n_array)}\\n')"
   ]
  },
  {
   "cell_type": "code",
   "execution_count": 9,
   "id": "d7ba1ea9",
   "metadata": {},
   "outputs": [
    {
     "name": "stdout",
     "output_type": "stream",
     "text": [
      "multiplication = \n",
      "[[16 19]\n",
      " [26 31]]\n",
      "\n",
      "covariance=\n",
      "[[0.5 0.5 0.5 0.5]\n",
      " [0.5 0.5 0.5 0.5]\n",
      " [0.5 0.5 0.5 0.5]\n",
      " [0.5 0.5 0.5 0.5]]\n",
      "\n",
      "multiplication2 = \n",
      "[[16 19  5]\n",
      " [26 31  8]\n",
      " [46 55 14]]\n",
      "\n",
      "covariance2 =\n",
      "[[0.5 0.5 0.5 1.  1.  0.5]\n",
      " [0.5 0.5 0.5 1.  1.  0.5]\n",
      " [0.5 0.5 0.5 1.  1.  0.5]\n",
      " [1.  1.  1.  2.  2.  1. ]\n",
      " [1.  1.  1.  2.  2.  1. ]\n",
      " [0.5 0.5 0.5 1.  1.  0.5]]\n"
     ]
    }
   ],
   "source": [
    "# Q1g\n",
    "p=np.array([[1,2],[2,3]])\n",
    "q=np.array([[4,5],[6,7]])\n",
    "\n",
    "mres=np.dot(p,q)\n",
    "print(f'multiplication = \\n{mres}\\n')\n",
    "cres=np.cov(p,q)\n",
    "print(f'covariance=\\n{cres}\\n')\n",
    "\n",
    "\n",
    "r=np.array([[1,2],[2,3],[4,5]])\n",
    "s=np.array([[4,5,1],[6,7,2]])\n",
    "\n",
    "mres2=np.dot(r,s)\n",
    "print(f'multiplication2 = \\n{mres2}\\n')\n",
    "cres2=np.cov(r,s.T)\n",
    "print(f'covariance2 =\\n{cres2}')\n",
    "\n"
   ]
  },
  {
   "cell_type": "code",
   "execution_count": 10,
   "id": "a03f7386",
   "metadata": {},
   "outputs": [
    {
     "name": "stdout",
     "output_type": "stream",
     "text": [
      "inner product\n",
      " [[17 52]\n",
      " [13 62]] \n",
      "\n",
      "outer product\n",
      " [[ 2 10  0 10 20  6]\n",
      " [ 3 15  0 15 30  9]\n",
      " [ 4 20  0 20 40 12]\n",
      " [ 3 15  0 15 30  9]\n",
      " [ 2 10  0 10 20  6]\n",
      " [ 9 45  0 45 90 27]]\n",
      "\n",
      "cartesian product\n",
      " [[-20   4   7]\n",
      " [-84  36  20]]\n"
     ]
    }
   ],
   "source": [
    "# Q1h\n",
    "x = np.array([[2, 3, 4], [3, 2, 9]])\n",
    "y = np.array([[1, 5, 0], [5, 10, 3]])\n",
    "inner= np.inner(x,y)\n",
    "print(f'inner product\\n {inner} \\n')\n",
    "outer=np.outer(x,y)\n",
    "print(f'outer product\\n {outer}\\n')\n",
    "cartesian=np.cross(x,y)\n",
    "print(f'cartesian product\\n {cartesian}')\n"
   ]
  },
  {
   "cell_type": "markdown",
   "id": "a3195c6b",
   "metadata": {},
   "source": [
    "## Q2"
   ]
  },
  {
   "cell_type": "code",
   "execution_count": 9,
   "id": "be998900",
   "metadata": {},
   "outputs": [
    {
     "name": "stdout",
     "output_type": "stream",
     "text": [
      "given\n",
      " [[ 1 -2  3]\n",
      " [-4  5 -6]] \n",
      "\n",
      "element wise absolute:\n",
      "[[1 2 3]\n",
      " [4 5 6]]\n",
      "\n",
      "25 percentile of flattened-> -3.5\n",
      "50 percentile of flattened-> -0.5\n",
      "75 percentile of flattened-> 2.5\n",
      "\n",
      "25 percentile of row-> [-2.75 -0.25 -3.75]\n",
      "50 percentile of row-> [-1.5  1.5 -1.5]\n",
      "75 percentile of row-> [-0.25  3.25  0.75]\n",
      "\n",
      "25 percentile of column-> [-0.5 -5. ]\n",
      "50 percentile of column-> [ 1. -4.]\n",
      "75 percentile of column-> [2.  0.5]\n",
      "\n",
      "flatten mean is -0.5\n",
      "column-wise mean is [ 0.66666667 -1.66666667]\n",
      "row-wise mean is [-1.5  1.5 -1.5] \n",
      "\n",
      "flatten median is -0.5\n",
      "column-wise median is [ 1. -4.]\n",
      "row-wise median is [-1.5  1.5 -1.5] \n",
      "\n",
      "flatten std is 3.8622100754188224\n",
      "column-wise std is [2.05480467 4.78423336]\n",
      "row-wise std is [2.5 3.5 4.5]\n"
     ]
    }
   ],
   "source": [
    "# Q2a\n",
    "array2 = np.array([[1, -2, 3],[-4, 5, -6]])\n",
    "print(\"given\\n\",array2,\"\\n\")\n",
    "#(i)\n",
    "abso=np.absolute(array2)\n",
    "print(f'element wise absolute:\\n{abso}\\n')\n",
    "\n",
    "#(ii)\n",
    "flat2=array2.flatten()\n",
    "print(f'25 percentile of flattened-> {np.percentile(flat2,25)}')\n",
    "print(f'50 percentile of flattened-> {np.percentile(flat2,50)}')\n",
    "print(f'75 percentile of flattened-> {np.percentile(flat2,75)}\\n')\n",
    "\n",
    "print(f'25 percentile of row-> {np.percentile(array2,25,axis=0)}')\n",
    "print(f'50 percentile of row-> {np.percentile(array2,50,axis=0)}')\n",
    "print(f'75 percentile of row-> {np.percentile(array2,75,axis=0)}\\n')\n",
    "\n",
    "print(f'25 percentile of column-> {np.percentile(array2,25,axis=1)}')\n",
    "print(f'50 percentile of column-> {np.percentile(array2,50,axis=1)}')\n",
    "print(f'75 percentile of column-> {np.percentile(array2,75,axis=1)}\\n')\n",
    "\n",
    "#(iii)\n",
    "print(\"flatten mean is\",np.mean(flat2))\n",
    "print(\"column-wise mean is\",np.mean(array2,axis=1))\n",
    "print(\"row-wise mean is\",np.mean(array2,axis=0),\"\\n\")\n",
    "\n",
    "print(\"flatten median is\",np.median(flat2))\n",
    "print(\"column-wise median is\",np.median(array2,axis=1))\n",
    "print(\"row-wise median is\",np.median(array2,axis=0),\"\\n\")\n",
    "\n",
    "print(\"flatten std is\",np.std(flat2))\n",
    "print(\"column-wise std is\",np.std(array2,axis=1))\n",
    "print(\"row-wise std is\",np.std(array2,axis=0))"
   ]
  },
  {
   "cell_type": "code",
   "execution_count": 10,
   "id": "1f3c05e1",
   "metadata": {},
   "outputs": [
    {
     "name": "stdout",
     "output_type": "stream",
     "text": [
      "floored values   [-2. -2. -1.  0.  1.  1.  3.]\n",
      "ceiling values   [-1. -1. -0.  1.  2.  2.  3.]\n",
      "truncated values [-1. -1. -0.  0.  1.  1.  3.]\n",
      "rounded values   [-2. -2. -0.  0.  2.  2.  3.]\n"
     ]
    }
   ],
   "source": [
    "# Q2b\n",
    "a = np.array([-1.8, -1.6, -0.5, 0.5,1.6, 1.8, 3.0])\n",
    "print(\"floored values  \",np.floor(a))\n",
    "print(\"ceiling values  \",np.ceil(a))\n",
    "print(\"truncated values\",np.trunc(a))\n",
    "print(\"rounded values  \",np.round(a))"
   ]
  },
  {
   "cell_type": "markdown",
   "id": "c3a0d92e",
   "metadata": {},
   "source": [
    "## Q3"
   ]
  },
  {
   "cell_type": "code",
   "execution_count": 11,
   "id": "83c8d5a8",
   "metadata": {},
   "outputs": [
    {
     "name": "stdout",
     "output_type": "stream",
     "text": [
      "array- [ 10  52  62  16  16  54 453]\n",
      "sorted- [ 10  16  16  52  54  62 453]\n",
      "indices- [0 3 4 1 5 2 6]\n",
      "4 smallest- [10 16 16 52]\n",
      "5 largest- [ 16  52  54  62 453]\n"
     ]
    }
   ],
   "source": [
    "# Q3a\n",
    "array = np.array([10, 52, 62, 16, 16, 54, 453])\n",
    "print(\"array-\",array)\n",
    "\n",
    "sortedarray=np.sort(array)\n",
    "print(\"sorted-\",sortedarray)\n",
    "\n",
    "indices = np.argsort(array)\n",
    "print(\"indices-\" ,indices)\n",
    "\n",
    "print(\"4 smallest-\",sortedarray[0:4])\n",
    "\n",
    "print(\"5 largest-\",sortedarray[-5:])"
   ]
  },
  {
   "cell_type": "code",
   "execution_count": 12,
   "id": "0a945abd",
   "metadata": {},
   "outputs": [
    {
     "name": "stdout",
     "output_type": "stream",
     "text": [
      "integral values  [1. 2. 3. 2.]\n",
      "float values  [1.2 2.2]\n"
     ]
    }
   ],
   "source": [
    "# Q3b\n",
    "array = np.array([1.0, 1.2, 2.2, 2.0, 3.0, 2.0])\n",
    "print(\"integral values \",array[array == array.astype(int)])\n",
    "print(\"float values \",array[array != array.astype(int)])"
   ]
  },
  {
   "cell_type": "markdown",
   "id": "445cdd8a",
   "metadata": {},
   "source": [
    "## Q4"
   ]
  },
  {
   "cell_type": "code",
   "execution_count": 15,
   "id": "59300b28",
   "metadata": {},
   "outputs": [
    {
     "name": "stdout",
     "output_type": "stream",
     "text": [
      "[[[255 255 255]\n",
      "  [255 255 255]\n",
      "  [255 255 255]\n",
      "  ...\n",
      "  [255 255 255]\n",
      "  [255 255 255]\n",
      "  [255 255 255]]\n",
      "\n",
      " [[255 255 255]\n",
      "  [255 255 255]\n",
      "  [255 255 255]\n",
      "  ...\n",
      "  [255 255 255]\n",
      "  [255 255 255]\n",
      "  [255 255 255]]\n",
      "\n",
      " [[255 255 255]\n",
      "  [255 255 255]\n",
      "  [255 255 255]\n",
      "  ...\n",
      "  [255 255 255]\n",
      "  [255 255 255]\n",
      "  [255 255 255]]\n",
      "\n",
      " ...\n",
      "\n",
      " [[255 255 255]\n",
      "  [255 255 255]\n",
      "  [255 255 255]\n",
      "  ...\n",
      "  [255 255 255]\n",
      "  [255 255 255]\n",
      "  [255 255 255]]\n",
      "\n",
      " [[255 255 255]\n",
      "  [255 255 255]\n",
      "  [255 255 255]\n",
      "  ...\n",
      "  [255 255 255]\n",
      "  [255 255 255]\n",
      "  [255 255 255]]\n",
      "\n",
      " [[255 255 255]\n",
      "  [255 255 255]\n",
      "  [255 255 255]\n",
      "  ...\n",
      "  [255 255 255]\n",
      "  [255 255 255]\n",
      "  [255 255 255]]]\n",
      "<class 'numpy.ndarray'>\n",
      "uint8\n",
      "(471, 688, 3)\n",
      "\n",
      "Content of file1.txt:\n",
      " [[[255 255 255]\n",
      "  [255 255 255]\n",
      "  [255 255 255]\n",
      "  ...\n",
      "  [255 255 255]\n",
      "  [255 255 255]\n",
      "  [255 255 255]]\n",
      "\n",
      " [[255 255 255]\n",
      "  [255 255 255]\n",
      "  [255 255 255]\n",
      "  ...\n",
      "  [255 255 255]\n",
      "  [255 255 255]\n",
      "  [255 255 255]]\n",
      "\n",
      " [[255 255 255]\n",
      "  [255 255 255]\n",
      "  [255 255 255]\n",
      "  ...\n",
      "  [255 255 255]\n",
      "  [255 255 255]\n",
      "  [255 255 255]]\n",
      "\n",
      " ...\n",
      "\n",
      " [[255 255 255]\n",
      "  [255 255 255]\n",
      "  [255 255 255]\n",
      "  ...\n",
      "  [255 255 255]\n",
      "  [255 255 255]\n",
      "  [255 255 255]]\n",
      "\n",
      " [[255 255 255]\n",
      "  [255 255 255]\n",
      "  [255 255 255]\n",
      "  ...\n",
      "  [255 255 255]\n",
      "  [255 255 255]\n",
      "  [255 255 255]]\n",
      "\n",
      " [[255 255 255]\n",
      "  [255 255 255]\n",
      "  [255 255 255]\n",
      "  ...\n",
      "  [255 255 255]\n",
      "  [255 255 255]\n",
      "  [255 255 255]]]\n"
     ]
    }
   ],
   "source": [
    "from PIL import Image\n",
    "import numpy as np\n",
    "def img_to_array(path):\n",
    "    img = np.array(Image.open(path))\n",
    "    print(img)\n",
    "    print(type(img))\n",
    "    print(img.dtype)\n",
    "    print(img.shape)\n",
    "    file = open(\"file1.txt\", \"w+\")\n",
    "    content = str(img)\n",
    "    file.write(content)\n",
    "    file.close()\n",
    "\n",
    "img_to_array('image.jpg')\n",
    " \n",
    "# q4b Displaying the contents of the text file\n",
    "file = open(\"file1.txt\", \"r\")\n",
    "content = file.read()\n",
    "print(\"\\nContent of file1.txt:\\n\", content)\n",
    "file.close()"
   ]
  },
  {
   "cell_type": "markdown",
   "id": "7474d0da",
   "metadata": {},
   "source": [
    "## End Of File"
   ]
  }
 ],
 "metadata": {
  "kernelspec": {
   "display_name": "Python 3 (ipykernel)",
   "language": "python",
   "name": "python3"
  },
  "language_info": {
   "codemirror_mode": {
    "name": "ipython",
    "version": 3
   },
   "file_extension": ".py",
   "mimetype": "text/x-python",
   "name": "python",
   "nbconvert_exporter": "python",
   "pygments_lexer": "ipython3",
   "version": "3.9.12"
  }
 },
 "nbformat": 4,
 "nbformat_minor": 5
}
