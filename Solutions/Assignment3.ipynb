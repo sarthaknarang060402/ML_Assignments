{
  "cells": [
    {
      "cell_type": "markdown",
      "metadata": {
        "id": "xPKcaHP7Dfj_"
      },
      "source": [
        "Lab Assignment 3"
      ]
    },
    {
      "cell_type": "code",
      "execution_count": null,
      "metadata": {
        "id": "_N9fz34ADk4N"
      },
      "outputs": [],
      "source": [
        "#NAME: Sarthak Narang\n",
        "#ROLLNO:102003627\n",
        "#GROUP:3COE19"
      ]
    },
    {
      "cell_type": "markdown",
      "metadata": {
        "id": "y1cqG-R-EubM"
      },
      "source": [
        "Q1\n",
        "K-Fold Cross Validation for Multiple Linear Regression (Least Square Error Fit)\n",
        "Load the dataset and Implement 5- fold cross validation for multiple linear regression (using least square error fit)."
      ]
    },
    {
      "cell_type": "code",
      "execution_count": 2,
      "metadata": {
        "id": "_gir8_hUHFsK"
      },
      "outputs": [],
      "source": [
        "import numpy as np\n",
        "import pandas as pd\n",
        "import matplotlib.pyplot as plt"
      ]
    },
    {
      "cell_type": "code",
      "execution_count": 171,
      "metadata": {
        "colab": {
          "base_uri": "https://localhost:8080/"
        },
        "id": "rRvrNe7PEz6U",
        "outputId": "7dbb0093-0afa-42ea-92c1-8e5d27d1c4e9"
      },
      "outputs": [
        {
          "name": "stdout",
          "output_type": "stream",
          "text": [
            "[[ 878736.87 1058987.99]\n",
            " [  98374.38  798869.53]\n",
            " [ 127395.04  630943.49]]\n"
          ]
        }
      ],
      "source": [
        "dataset= pd.read_csv('USA_Housing.csv')\n",
        "x=dataset.iloc[:10,:-1].values\n",
        "y=dataset.iloc[:10,-1].values\n",
        "\n",
        "\n",
        "from sklearn.model_selection import train_test_split\n",
        "x_train, x_test, y_train, y_test = train_test_split(x, y, test_size = 0.25, random_state = 0)\n",
        "\n",
        "from sklearn.preprocessing import StandardScaler\n",
        "sc = StandardScaler()\n",
        "X_train = sc.fit_transform(x_train)\n",
        "X_test = sc.transform(x_test)\n",
        "\n",
        "\n",
        "from sklearn.linear_model import LinearRegression\n",
        "regressor = LinearRegression()\n",
        "regressor.fit(x_train, y_train)\n",
        "\n",
        "y_pred = regressor.predict(x_test)\n",
        "np.set_printoptions(precision=2)\n",
        "print(np.concatenate((y_pred.reshape(len(y_pred),1), y_test.reshape(len(y_test),1)),1))"
      ]
    },
    {
      "cell_type": "code",
      "execution_count": 172,
      "metadata": {
        "colab": {
          "base_uri": "https://localhost:8080/"
        },
        "id": "ddd8qIcpOWzI",
        "outputId": "75b53c82-d1fa-446d-b3d5-0fda110d4703"
      },
      "outputs": [
        {
          "name": "stdout",
          "output_type": "stream",
          "text": [
            "[-265084.42 -196405.35 -264907.49 -201797.98 -151271.72]\n"
          ]
        }
      ],
      "source": [
        "\n",
        "from sklearn.model_selection import KFold\n",
        "from sklearn.model_selection import cross_val_score\n",
        "from sklearn.linear_model import LinearRegression\n",
        "\n",
        "cv = KFold(n_splits=5, random_state=1, shuffle=True)\n",
        "model = LinearRegression()\n",
        "scores = cross_val_score(model, x, y, scoring='neg_mean_absolute_error',\n",
        "                         cv=cv, n_jobs=-1)\n",
        "\n",
        "print(scores)\n",
        "\n"
      ]
    },
    {
      "cell_type": "code",
      "execution_count": null,
      "metadata": {
        "id": "B1BEbkfXZgL0"
      },
      "outputs": [],
      "source": [
        "df = pd.read_csv(\"USA_Housing.csv\")\n",
        "df.columns\n",
        "df_input = df.drop('Price',axis =1)\n",
        "df_input.columns\n",
        "df_output = df['Price']\n",
        "df_output\n",
        "df.head()\n",
        "features_with_na = [feature for feature in df_input.columns if df_input[feature].isnull().sum()>1]\n",
        "\n",
        "for feature in features_with_na:\n",
        "  print(feature,np.round(df_input[feature].isnull().mean(),4),'% missing values')\n",
        "\n",
        "discrete_feature=[feature for feature in df_input.columns if len(df_input[feature].unique())<200]\n",
        "print(\"Discrete Variables Count: {}\".format(len(discrete_feature)))\n",
        "\n",
        "df_input.columns\n",
        "from sklearn.preprocessing import MinMaxScaler\n",
        "\n",
        "scaling = MinMaxScaler()\n",
        "scaling.fit_transform(df_input[['Avg. Area Income', 'Avg. Area House Age', 'Avg. Area Number of Rooms',\n",
        "       'Avg. Area Number of Bedrooms', 'Area Population']])\n",
        "\n",
        "\n",
        "from sklearn.preprocessing import StandardScaler\n",
        "\n",
        "scaling = StandardScaler()\n",
        "df_input[['Avg. Area Income', 'Avg. Area House Age', 'Avg. Area Number of Rooms',\n",
        "       'Avg. Area Number of Bedrooms', 'Area Population']]=scaling.fit_transform(df_input[['Avg. Area Income', 'Avg. Area House Age', 'Avg. Area Number of Rooms',\n",
        "       'Avg. Area Number of Bedrooms', 'Area Population']])\n",
        "\n",
        "\n",
        "\n",
        "df_output=scaling.fit_transform(df[['Price']])\n",
        "df_output = df_output.flatten()\n",
        "df_output\n",
        "\n",
        "df_input.head()\n",
        "\n",
        "\n"
      ]
    },
    {
      "cell_type": "code",
      "execution_count": null,
      "metadata": {
        "id": "bKRSDm05fBIT"
      },
      "outputs": [],
      "source": [
        "import matplotlib.pyplot as plt\n",
        "for feature in df_input.columns:\n",
        "    data = df_input.copy()\n",
        "    if 0 in data[feature].unique():\n",
        "        pass\n",
        "    else:\n",
        "        # data[feature] = np.log(data[feature]) \n",
        "        data.boxplot(column = feature)\n",
        "        plt.ylabel(feature)\n",
        "        plt.title(feature)\n",
        "        plt.show()\n",
        "\n",
        "\n",
        "\n",
        "\n",
        "\n",
        "\n",
        "\n"
      ]
    },
    {
      "cell_type": "code",
      "execution_count": null,
      "metadata": {
        "id": "XLv9zqCFfGIA"
      },
      "outputs": [],
      "source": [
        "\n",
        "from sklearn import metrics\n",
        "def get_description_model(model,x_train, x_test,y_train, y_test):\n",
        "  reg=model.fit(x_train,y_train)\n",
        "  y_predict = model.predict(x_test)\n",
        "  r2_score=metrics.r2_score(y_test, y_predict)\n",
        "  lse=metrics.mean_squared_error(y_predict,y_test)\n",
        "  return model.score(x_test,y_test) ,y_predict,reg.coef_ ,r2_score,lse\n",
        "\n",
        "\n",
        "from sklearn.model_selection import StratifiedKFold\n",
        "from sklearn.model_selection import train_test_split\n",
        "folds = StratifiedKFold(n_splits=5)\n",
        "from sklearn.model_selection import KFold\n",
        "kfolds = KFold(n_splits=5)\n",
        "from sklearn.linear_model import LinearRegression\n",
        "df_output\n",
        "\n",
        "\n",
        "\n",
        "df_input.head()\n",
        "\n",
        "df_input.columns\n",
        "df_input[['Avg. Area Income', 'Avg. Area House Age', 'Avg. Area Number of Rooms','Avg. Area Number of Bedrooms', 'Area Population']]\n",
        "kk=kfolds.split(df_input[['Avg. Area Income', 'Avg. Area House Age', 'Avg. Area Number of Rooms','Avg. Area Number of Bedrooms', 'Area Population']],df_output)\n",
        "print(kk)\n",
        "\n",
        "\n",
        "\n",
        "df_output = pd.Series(df_output)\n",
        "scores_model =[]\n",
        "r2_scores =[]\n",
        "for train_index,test_index in kfolds.split(df_input[['Avg. Area Income', 'Avg. Area House Age', 'Avg. Area Number of Rooms','Avg. Area Number of Bedrooms', 'Area Population']],df_output):\n",
        "  \n",
        "   print(\"train_index\",train_index)\n",
        "   print(\"test_index\",test_index)\n",
        "   x_train, x_test = df_input.iloc[train_index], df_input.iloc[test_index]\n",
        "   y_train, y_test = df_output.iloc[train_index], df_output.iloc[test_index]\n",
        "   score,y_predict,beta_coeff,r2_score,lse=get_description_model(LinearRegression(),x_train, x_test,y_train, y_test)\n",
        "   scores_model.append(score)\n",
        "   r2_scores.append(r2_score)\n",
        "  \n",
        "   print(\"beta_coeff :\",beta_coeff)\n",
        "   print(\"r2_score\",r2_score)\n",
        "   print(\"lse\",lse)\n",
        "scores_model"
      ]
    },
    {
      "cell_type": "markdown",
      "metadata": {
        "id": "Zn1-874sW4vq"
      },
      "source": [
        "Q2 Concept of Validation set for Multiple Linear Regression (Gradient Descent Optimization) Consider the same dataset of Q1, rather than dividing the dataset into five folds, divide the dataset into training set (56%), validation set (14%), and test set (30%). Consider four different values of learning rate i.e. {0.001,0.01,0.1,1}. Compute the values of regression coefficients for each value of learning rate after 1000 iterations. For each set of regression coefficients, compute R2_score for validation and test set and find the best value of regression coefficients."
      ]
    },
    {
      "cell_type": "code",
      "execution_count": 173,
      "metadata": {
        "id": "ckarnX-dVvVd"
      },
      "outputs": [],
      "source": [
        "X_train, X_test, y_train, y_test = train_test_split(x, y, test_size=0.2, random_state=1)\n",
        "X_train, X_val, y_train, y_val = train_test_split(X_train, y_train, test_size=0.14, random_state=1)"
      ]
    },
    {
      "cell_type": "code",
      "execution_count": null,
      "metadata": {
        "id": "JnwdXBtdVuMF"
      },
      "outputs": [],
      "source": [
        "def gradient_descent(x,y):\n",
        "    m_curr = b_curr = 0\n",
        "    iterations = 1000\n",
        "    n = len(x)\n",
        "    learning_rate = 0.001\n",
        "\n",
        "    for i in range(iterations):\n",
        "        y_predicted = m_curr * x + b_curr\n",
        "        cost = (1/n) * sum([val**2 for val in (y-y_predicted)])\n",
        "        md = -(2/n)*sum(x*(y-y_predicted))\n",
        "        bd = -(2/n)*sum(y-y_predicted)\n",
        "        m_curr = m_curr - learning_rate * md\n",
        "        b_curr = b_curr - learning_rate * bd\n",
        "        print (\"m {}, b {}, cost {} iteration {}\".format(m_curr,b_curr,cost, i))\n",
        "\n",
        "x = np.array([1,2,3,4,5])\n",
        "y = np.array([8,27,19,16,20])\n",
        "\n",
        "gradient_descent(x,y)"
      ]
    },
    {
      "cell_type": "code",
      "execution_count": null,
      "metadata": {
        "id": "qFKh1_4-X6nz"
      },
      "outputs": [],
      "source": [
        "from sklearn.metrics import r2_score\n",
        "r2_score(y_test,y_val)"
      ]
    },
    {
      "cell_type": "code",
      "execution_count": null,
      "metadata": {
        "id": "ffjnZg4qIX7A"
      },
      "outputs": [],
      "source": [
        "df = pd.read_csv('USA_Housing.csv')\n",
        "df.head()\n",
        "X = df.values[:, 0:2] \n",
        "y = df.values[:, 2] \n",
        "\n",
        "m = len(y)\n",
        "\n",
        "print('Total no of training examples (m) = %s \\n' %(m))\n",
        "\n",
        "for i in range(5):\n",
        "    print('x =', X[i, ], ', y =', y[i])\n",
        "\n",
        "\n"
      ]
    },
    {
      "cell_type": "code",
      "execution_count": 182,
      "metadata": {
        "id": "sxoWVb2fJHJj"
      },
      "outputs": [],
      "source": [
        "def feature_normalize(X):\n",
        "  mu = np.mean(X, axis = 0)\n",
        "  sigma = np.std(X, axis= 0, ddof = 1)\n",
        "  X_norm = (X - mu)/sigma\n",
        "  return X_norm, mu, sigma"
      ]
    },
    {
      "cell_type": "code",
      "execution_count": null,
      "metadata": {
        "id": "JLiO5Y-nJfvF"
      },
      "outputs": [],
      "source": [
        "X, mu, sigma = feature_normalize(X)\n",
        "\n",
        "print('mu= ', mu)\n",
        "print('sigma= ', sigma)\n",
        "print('X_norm= ', X[:5])"
      ]
    },
    {
      "cell_type": "code",
      "execution_count": 194,
      "metadata": {
        "id": "5Sw_JpiFJkRU"
      },
      "outputs": [],
      "source": [
        "mu_testing = np.mean(X, axis = 0)\n",
        "sigma_testing = np.std(X, axis = 0, ddof = 1)"
      ]
    },
    {
      "cell_type": "code",
      "execution_count": null,
      "metadata": {
        "id": "We-6Bb0rJy6D"
      },
      "outputs": [],
      "source": [
        "X = np.hstack((np.ones((m,1)), X))\n",
        "X[:5]"
      ]
    },
    {
      "cell_type": "code",
      "execution_count": 186,
      "metadata": {
        "id": "QhYNb6RRJ3Lw"
      },
      "outputs": [],
      "source": [
        "def compute_cost(X, y, theta):\n",
        "  predictions = X.dot(theta)\n",
        "  errors = np.subtract(predictions, y)\n",
        "  sqrErrors = np.square(errors)\n",
        "  J = 1/(2 * m) * errors.T.dot(errors)\n",
        "\n",
        "  return J"
      ]
    },
    {
      "cell_type": "code",
      "execution_count": 187,
      "metadata": {
        "id": "fruagikyKDm1"
      },
      "outputs": [],
      "source": [
        "def gradient_descent(X, y, theta, alpha, iterations):\n",
        "  cost_history = np.zeros(iterations)\n",
        "\n",
        "  for i in range(iterations):\n",
        "    predictions = X.dot(theta)\n",
        "    \n",
        "    errors = np.subtract(predictions, y)\n",
        "    \n",
        "    sum_delta = (alpha / m) * X.transpose().dot(errors);\n",
        "    \n",
        "    theta = theta - sum_delta;\n",
        "\n",
        "    cost_history[i] = compute_cost(X, y, theta)  \n",
        "\n",
        "  return theta, cost_history"
      ]
    },
    {
      "cell_type": "code",
      "execution_count": 188,
      "metadata": {
        "id": "5RqNwyvyKPWt"
      },
      "outputs": [],
      "source": [
        "theta = np.zeros(3)\n",
        "iterations = 400;\n",
        "alpha = 0.15;"
      ]
    },
    {
      "cell_type": "code",
      "execution_count": null,
      "metadata": {
        "id": "OIMudT8vKQvc"
      },
      "outputs": [],
      "source": [
        "theta, cost_history = gradient_descent(X, y, theta, alpha, iterations)\n",
        "print('Final value of theta =', theta)\n",
        "print('First 5 values from cost_history =', cost_history[:5])\n",
        "print('Last 5 values from cost_history =', cost_history[-5 :])"
      ]
    },
    {
      "cell_type": "code",
      "execution_count": 191,
      "metadata": {
        "colab": {
          "base_uri": "https://localhost:8080/",
          "height": 421
        },
        "id": "f4997s7zKY5Q",
        "outputId": "5533d8ee-c7a6-48bc-8ce8-2c40f96369fc"
      },
      "outputs": [
        {
          "data": {
            "text/plain": [
              "Text(0.5, 1.0, 'Convergence of gradient descent')"
            ]
          },
          "execution_count": 191,
          "metadata": {},
          "output_type": "execute_result"
        },
        {
          "data": {
            "image/png": "[encoded data removed]",
            "text/plain": [
              "<Figure size 720x432 with 1 Axes>"
            ]
          },
          "metadata": {
            "needs_background": "light"
          },
          "output_type": "display_data"
        }
      ],
      "source": [
        "import matplotlib.pyplot as plt\n",
        "plt.plot(range(1, iterations +1), cost_history, color ='blue')\n",
        "plt.rcParams[\"figure.figsize\"] = (10,6)\n",
        "plt.grid()\n",
        "plt.xlabel(\"Number of iterations\")\n",
        "plt.ylabel(\"cost (J)\")\n",
        "plt.title(\"Convergence of gradient descent\")"
      ]
    },
    {
      "cell_type": "code",
      "execution_count": 192,
      "metadata": {
        "colab": {
          "base_uri": "https://localhost:8080/",
          "height": 421
        },
        "id": "xVwlthghKapZ",
        "outputId": "b04aa281-e70e-4e4c-da8f-ef63f2c41fe0"
      },
      "outputs": [
        {
          "data": {
            "text/plain": [
              "<matplotlib.legend.Legend at 0x7f1964312c10>"
            ]
          },
          "execution_count": 192,
          "metadata": {},
          "output_type": "execute_result"
        },
        {
          "data": {
            "image/png": "[encoded data removed]",
            "text/plain": [
              "<Figure size 720x432 with 1 Axes>"
            ]
          },
          "metadata": {
            "needs_background": "light"
          },
          "output_type": "display_data"
        }
      ],
      "source": [
        "iterations = 1000;\n",
        "theta = np.zeros(3)\n",
        "\n",
        "alpha = 0.005;\n",
        "theta_1, cost_history_1 = gradient_descent(X, y, theta, alpha, iterations)\n",
        "\n",
        "alpha = 0.01;\n",
        "theta_2, cost_history_2 = gradient_descent(X, y, theta, alpha, iterations)\n",
        "\n",
        "alpha = 0.02;\n",
        "theta_3, cost_history_3 = gradient_descent(X, y, theta, alpha, iterations)\n",
        "\n",
        "plt.plot(range(1, iterations +1), cost_history_1, color ='purple', label = 'alpha = 0.005')\n",
        "plt.plot(range(1, iterations +1), cost_history_2, color ='red', label = 'alpha = 0.01')\n",
        "plt.plot(range(1, iterations +1), cost_history_3, color ='green', label = 'alpha = 0.02')\n",
        "\n",
        "\n",
        "plt.rcParams[\"figure.figsize\"] = (10,6)\n",
        "plt.grid()\n",
        "plt.xlabel(\"Number of iterations\")\n",
        "plt.ylabel(\"cost (J)\")\n",
        "plt.title(\"Effect of Learning Rate On Convergence of Gradient Descent\")\n",
        "plt.legend()\n"
      ]
    },
    {
      "cell_type": "code",
      "execution_count": 193,
      "metadata": {
        "colab": {
          "base_uri": "https://localhost:8080/",
          "height": 421
        },
        "id": "LHl2JSkpKnhU",
        "outputId": "b86b3ceb-ce8e-4788-c07c-f40055989aa6"
      },
      "outputs": [
        {
          "data": {
            "text/plain": [
              "Text(0.5, 1.0, 'Effect of Large Learning Rate On Convergence of Gradient Descent')"
            ]
          },
          "execution_count": 193,
          "metadata": {},
          "output_type": "execute_result"
        },
        {
          "data": {
            "image/png": "[encoded data removed]",
            "text/plain": [
              "<Figure size 720x432 with 1 Axes>"
            ]
          },
          "metadata": {
            "needs_background": "light"
          },
          "output_type": "display_data"
        }
      ],
      "source": [
        "iterations = 1000;\n",
        "theta = np.zeros(3)\n",
        "\n",
        "alpha = 1.32;\n",
        "theta_6, cost_history_6 = gradient_descent(X, y, theta, alpha, iterations)\n",
        "\n",
        "plt.plot(range(1, iterations +1), cost_history_6, color ='brown')\n",
        "plt.rcParams[\"figure.figsize\"] = (10,6)\n",
        "plt.grid()\n",
        "plt.xlabel(\"Number of iterations\")\n",
        "plt.ylabel(\"cost (J)\")\n",
        "plt.title(\"Effect of Large Learning Rate On Convergence of Gradient Descent\")"
      ]
    },
    {
      "cell_type": "markdown",
      "metadata": {
        "id": "2JFv_QSiZw5C"
      },
      "source": [
        "Q3 Pre-processing and Multiple Linear Regression"
      ]
    },
    {
      "cell_type": "code",
      "execution_count": 215,
      "metadata": {
        "id": "bbYNUIkFXWiX"
      },
      "outputs": [],
      "source": [
        "import pandas as pd\n",
        "df[[\"symboling\", \"normalized_losses\",\n",
        "\"make\", \"fuel_type\", \"aspiration\",\"num_doors\", \"body_style\", \"drive_wheels\",\n",
        "\"engine_location\", \"wheel_base\", \"length\", \"width\", \"height\", \"curb_weight\",\n",
        "\"engine_type\", \"num_cylinders\", \"engine_size\", \"fuel_system\", \"bore\", \"stroke\",\n",
        "\"compression_ratio\", \"horsepower\", \"peak_rpm\", \"city_mpg\", \"highway_mpg\", \"price\"] ]= pd.read_csv(\"imports-85.data\",sep=\",\")"
      ]
    },
    {
      "cell_type": "code",
      "execution_count": null,
      "metadata": {
        "id": "TvUqpTFgcd5v"
      },
      "outputs": [],
      "source": [
        "df.head()"
      ]
    },
    {
      "cell_type": "code",
      "execution_count": null,
      "metadata": {
        "id": "UD4GvAnIcoYj"
      },
      "outputs": [],
      "source": [
        "c=['3', '?', 'alfa-romero', 'gas', 'std', 'two', 'convertible', 'rwd',\n",
        "       'front', '88.60', '168.80', '64.10', '48.80', '2548', 'dohc', 'four',\n",
        "       '130', 'mpfi', '3.47', '2.68', '9.00', '111', '5000', '21', '27',\n",
        "       '13495']\n",
        "df = df.drop(c,axis =1)"
      ]
    },
    {
      "cell_type": "code",
      "execution_count": null,
      "metadata": {
        "id": "i9RrVAg1cAPu"
      },
      "outputs": [],
      "source": [
        "df.columns"
      ]
    },
    {
      "cell_type": "code",
      "execution_count": null,
      "metadata": {
        "id": "oqO15QcacA5l"
      },
      "outputs": [],
      "source": [
        "df.head()"
      ]
    },
    {
      "cell_type": "code",
      "execution_count": null,
      "metadata": {
        "id": "WKp-ItwgcD6C"
      },
      "outputs": [],
      "source": [
        "import numpy as np\n",
        "df =df.replace(\"?\",np.nan)\n",
        "df.head()"
      ]
    },
    {
      "cell_type": "code",
      "execution_count": 222,
      "metadata": {
        "id": "NZWyWAhQcGc_"
      },
      "outputs": [],
      "source": [
        "df['num_doors'] = df['num_doors'].fillna(\"Zero\")\n",
        "df['normalized_losses'] = df['normalized_losses'].fillna(0)"
      ]
    },
    {
      "cell_type": "code",
      "execution_count": null,
      "metadata": {
        "id": "gW3kbFgcdErG"
      },
      "outputs": [],
      "source": [
        "pip install word2number"
      ]
    },
    {
      "cell_type": "code",
      "execution_count": null,
      "metadata": {
        "id": "Ps41rb2ydOKR"
      },
      "outputs": [],
      "source": [
        "from word2number import w2n\n",
        "df.num_doors = df.num_doors.apply(w2n.word_to_num)\n",
        "df.head()"
      ]
    },
    {
      "cell_type": "code",
      "execution_count": null,
      "metadata": {
        "id": "AMq0ENecdTON"
      },
      "outputs": [],
      "source": [
        "features_with_na = [feature for feature in df.columns if df[feature].isnull().sum()>0]\n",
        "features_with_na"
      ]
    },
    {
      "cell_type": "code",
      "execution_count": null,
      "metadata": {
        "id": "9c51P2cade0b"
      },
      "outputs": [],
      "source": [
        "for feature in features_with_na:\n",
        "  if(feature!='price'):\n",
        "    df[feature] = df[feature].fillna(0)\n",
        "    df[feature] = df[feature].replace(0,df[feature].median())"
      ]
    },
    {
      "cell_type": "code",
      "execution_count": null,
      "metadata": {
        "id": "gruMmRi6dlI0"
      },
      "outputs": [],
      "source": [
        "df.head()"
      ]
    },
    {
      "cell_type": "code",
      "execution_count": null,
      "metadata": {
        "id": "wU_yNcAUdm-m"
      },
      "outputs": [],
      "source": [
        "df = df.dropna(axis=0)\n",
        "df.num_cylinders = df.num_cylinders.apply(w2n.word_to_num)\n",
        "dummies = pd.get_dummies(df[['body_style','drive_wheels']])\n",
        "dummies"
      ]
    },
    {
      "cell_type": "code",
      "execution_count": null,
      "metadata": {
        "id": "QaMAoa8ndqse"
      },
      "outputs": [],
      "source": [
        "df = df.drop(['body_style','drive_wheels'],axis = 1)\n",
        "df.head()"
      ]
    },
    {
      "cell_type": "code",
      "execution_count": null,
      "metadata": {
        "id": "meIv7POhduCf"
      },
      "outputs": [],
      "source": [
        "df = pd.concat([df,dummies],axis = 'columns')\n",
        "df = df.drop(['body_style_wagon','drive_wheels_rwd'],axis = 1)\n",
        "df.head()"
      ]
    },
    {
      "cell_type": "code",
      "execution_count": null,
      "metadata": {
        "id": "LX8xECNxdxAW"
      },
      "outputs": [],
      "source": [
        "from sklearn.preprocessing import LabelEncoder\n",
        "le = LabelEncoder()\n",
        "df['make']=le.fit_transform(df['make'])\n",
        "df['fuel_type']=le.fit_transform(df['fuel_type'])\n",
        "df['aspiration']=le.fit_transform(df['aspiration'])\n",
        "df['engine_location']=le.fit_transform(df['engine_location'])\n",
        "df.head()"
      ]
    },
    {
      "cell_type": "code",
      "execution_count": null,
      "metadata": {
        "id": "ukk87bmMd1D-"
      },
      "outputs": [],
      "source": [
        "for i in df.index:\n",
        "  if(df['fuel_system'][i]=='pfi'):\n",
        "    df['fuel_system'][i]=1;\n",
        "  else:\n",
        "    df['fuel_system'][i]=0;"
      ]
    },
    {
      "cell_type": "code",
      "execution_count": null,
      "metadata": {
        "id": "9dC56Eeyd35K"
      },
      "outputs": [],
      "source": [
        "for i in df.index:\n",
        "  if(df['engine_type'][i]=='ohc'):\n",
        "    df['engine_type'][i]=1;\n",
        "  else:\n",
        "    df['engine_type'][i]=0;"
      ]
    },
    {
      "cell_type": "code",
      "execution_count": null,
      "metadata": {
        "id": "mDEXG6cld7t6"
      },
      "outputs": [],
      "source": [
        "df['fuel_system']"
      ]
    },
    {
      "cell_type": "code",
      "execution_count": null,
      "metadata": {
        "id": "ct2kjMgId8Ul"
      },
      "outputs": [],
      "source": [
        "df['engine_type']"
      ]
    },
    {
      "cell_type": "code",
      "execution_count": null,
      "metadata": {
        "id": "wunKxhN-d-yY"
      },
      "outputs": [],
      "source": [
        "df.head()"
      ]
    },
    {
      "cell_type": "code",
      "execution_count": null,
      "metadata": {
        "id": "HkZiNG8eeBK7"
      },
      "outputs": [],
      "source": [
        "df.columns"
      ]
    },
    {
      "cell_type": "code",
      "execution_count": null,
      "metadata": {
        "id": "2wgP4S7heDmh"
      },
      "outputs": [],
      "source": [
        "v=['symboling', 'normalized_losses', 'make', 'fuel_type', 'aspiration',\n",
        "       'num_doors', 'engine_location', 'wheel_base', 'length', 'width',\n",
        "       'height', 'curb_weight', 'engine_type', 'num_cylinders', 'engine_size',\n",
        "       'fuel_system', 'bore', 'stroke', 'compression_ratio', 'horsepower',\n",
        "       'peak_rpm', 'city_mpg', 'highway_mpg', 'price',\n",
        "       'body_style_convertible', 'body_style_hardtop', 'body_style_hatchback',\n",
        "       'body_style_sedan', 'drive_wheels_4wd', 'drive_wheels_fwd']\n",
        "from sklearn.preprocessing import StandardScaler\n",
        "scaling = StandardScaler()\n",
        "df[v]=scaling.fit_transform(df[v])"
      ]
    },
    {
      "cell_type": "code",
      "execution_count": null,
      "metadata": {
        "id": "fPwnZ14UePgK"
      },
      "outputs": [],
      "source": [
        "df.head()"
      ]
    },
    {
      "cell_type": "code",
      "execution_count": 235,
      "metadata": {
        "colab": {
          "base_uri": "https://localhost:8080/"
        },
        "id": "cey9hvRoeWsT",
        "outputId": "fbcc661a-0357-4b30-fd54-fe12a2aba57f"
      },
      "outputs": [
        {
          "data": {
            "text/plain": [
              "pandas.core.series.Series"
            ]
          },
          "execution_count": 235,
          "metadata": {},
          "output_type": "execute_result"
        }
      ],
      "source": [
        "df_output =df['price'] \n",
        "type(df_output)"
      ]
    },
    {
      "cell_type": "code",
      "execution_count": null,
      "metadata": {
        "id": "zH9llgx_eaiy"
      },
      "outputs": [],
      "source": [
        "df_input = df[input]\n",
        "df_input.columns"
      ]
    },
    {
      "cell_type": "code",
      "execution_count": null,
      "metadata": {
        "id": "Wm-XZIijeesv"
      },
      "outputs": [],
      "source": [
        "df_input.columns"
      ]
    },
    {
      "cell_type": "code",
      "execution_count": null,
      "metadata": {
        "id": "5b5gOjRAeg3x"
      },
      "outputs": [],
      "source": [
        "df_output.head()"
      ]
    },
    {
      "cell_type": "code",
      "execution_count": null,
      "metadata": {
        "id": "skiuKWHHejSt"
      },
      "outputs": [],
      "source": [
        "from sklearn.linear_model import LinearRegression\n",
        "model = LinearRegression()\n",
        "from sklearn.model_selection import train_test_split\n",
        "x_train,x_test,y_train,y_test = train_test_split(df_input,df_output,test_size = 0.3,random_state =10)\n",
        "model.fit(x_train,y_train)"
      ]
    },
    {
      "cell_type": "code",
      "execution_count": null,
      "metadata": {
        "id": "tG4_lyxzel1B"
      },
      "outputs": [],
      "source": [
        "model.score(x_test,y_test)"
      ]
    },
    {
      "cell_type": "code",
      "execution_count": null,
      "metadata": {
        "id": "0y2I-Z_aeoAf"
      },
      "outputs": [],
      "source": [
        "df_input.shape"
      ]
    },
    {
      "cell_type": "code",
      "execution_count": null,
      "metadata": {
        "id": "aeHYl1d3eqLu"
      },
      "outputs": [],
      "source": [
        "from sklearn.decomposition import PCA\n",
        "\n",
        "pca = PCA(0.95)\n",
        "X_pca = pca.fit_transform(df_input)\n",
        "X_pca.shape"
      ]
    },
    {
      "cell_type": "code",
      "execution_count": null,
      "metadata": {
        "id": "MI289bLzesqh"
      },
      "outputs": [],
      "source": [
        "pca.explained_variance_ratio_"
      ]
    },
    {
      "cell_type": "code",
      "execution_count": null,
      "metadata": {
        "id": "DmL7ZmCpeu5b"
      },
      "outputs": [],
      "source": [
        "pca.n_components_"
      ]
    },
    {
      "cell_type": "code",
      "execution_count": null,
      "metadata": {
        "id": "LbnZTaXhew-E"
      },
      "outputs": [],
      "source": [
        "X_train_pca, X_test_pca, y_train, y_test = train_test_split(X_pca, df_output, test_size=0.3, random_state=42)\n",
        "from sklearn.linear_model import LinearRegression\n",
        "\n",
        "model = LinearRegression()\n",
        "model.fit(X_train_pca, y_train)\n",
        "model.score(X_test_pca, y_test)"
      ]
    }
  ],
  "metadata": {
    "colab": {
      "name": "SAHILATWAL_102183020_ML_ASSIGNMENT3ipynb",
      "provenance": []
    },
    "kernelspec": {
      "display_name": "Python 3",
      "name": "python3"
    },
    "language_info": {
      "name": "python"
    }
  },
  "nbformat": 4,
  "nbformat_minor": 0
}
