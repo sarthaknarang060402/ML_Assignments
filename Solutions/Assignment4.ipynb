{
 "cells": [
  {
   "cell_type": "markdown",
   "metadata": {
    "id": "OChRWs7WVt0z"
   },
   "source": [
    "ASSIGNMENT-4"
   ]
  },
  {
   "cell_type": "code",
   "execution_count": null,
   "metadata": {
    "id": "DfarNeYnVyWm"
   },
   "outputs": [],
   "source": [
    "#Q1\n",
    "#(Based on Step-by-Step Implementation of Ridge Regression using GradientDescent Optimization) Generate a dataset with atleast seven highly correlated columns and a target variable.\n",
    "#Implement Ridge Regression using Gradient Descent Optimization. Take different values of learning rate (such as 0.0001,0.001,0.01,0.1,1,10) and regularization parameter \n",
    "#(10-15,10-10,10-5,10- 3,0,1,10,20). Choose the best parameters for which ridge regression cost function is minimum and R2_score is maximum."
   ]
  },
  {
   "cell_type": "code",
   "execution_count": null,
   "metadata": {
    "id": "hxa-7xdIWBs5"
   },
   "outputs": [],
   "source": [
    "import numpy as np \n",
    "import pandas as pd \n",
    "df = pd.read_csv('USA_Housing.csv', sep=',', header=None)\n",
    "print(df.values) "
   ]
  },
  {
   "cell_type": "code",
   "execution_count": null,
   "metadata": {
    "id": "IyEHauPgWIEj"
   },
   "outputs": [],
   "source": [
    "df_input=df.iloc[:,:-1] \n",
    "df_input "
   ]
  },
  {
   "cell_type": "code",
   "execution_count": null,
   "metadata": {
    "id": "fM-Zlgu4WKMb"
   },
   "outputs": [],
   "source": [
    "df_input = df_input.iloc[1: , : ] "
   ]
  },
  {
   "cell_type": "code",
   "execution_count": null,
   "metadata": {
    "id": "gY_Z2mrVWOfg"
   },
   "outputs": [],
   "source": [
    "from sklearn.preprocessing import Normalizer \n",
    "norm = Normalizer().fit(df_input) \n",
    "result_df = norm.transform(df_input) \n",
    "print('Shape: ',np.shape(result_df)) \n",
    "result_df "
   ]
  },
  {
   "cell_type": "code",
   "execution_count": null,
   "metadata": {
    "id": "Vw-OyMG5WO-c"
   },
   "outputs": [],
   "source": [
    "from sklearn.preprocessing import StandardScaler \n",
    "result_df = StandardScaler().fit_transform(df_input) \n",
    "result_df "
   ]
  },
  {
   "cell_type": "code",
   "execution_count": null,
   "metadata": {
    "id": "ZfDb0LaYWR1u"
   },
   "outputs": [],
   "source": [
    "dk=df.iloc[1: ,5:6] \n",
    "testdata=dk.to_numpy() \n",
    "testdata.shape "
   ]
  },
  {
   "cell_type": "code",
   "execution_count": null,
   "metadata": {
    "id": "QkbWPeX2WVTq"
   },
   "outputs": [],
   "source": [
    "arr=np.concatenate((result_df,testdata),axis=1) \n",
    "print(arr.shape) "
   ]
  },
  {
   "cell_type": "code",
   "execution_count": null,
   "metadata": {
    "id": "3DlHG1SZWYFa"
   },
   "outputs": [],
   "source": [
    "arrl=arr[0:1000,:] \n",
    "train_arrl=arr[1001:5000,:] \n",
    "arr2=arr[1001:2000,:] \n",
    "templ=arr[0:1000,:] \n",
    "temp2=arr[2001:5000,:] \n",
    "train_arr2=np.concatenate((templ,temp2),axis=0) \n",
    "arr3=arr[2001:3000,:] \n",
    "temp3=arr[0:2000,:] \n",
    "temp4=arr[3001:5000,] \n",
    "train_arr3=np.concatenate((temp3,temp4),axis=0) \n",
    "arr4=arr[3001:4000,:] \n",
    "temp5=arr[0:3000,:] \n",
    "temp6=arr[4001:5000,:] \n",
    "train_arr4=np.concatenate((temp5,temp6),axis=0) \n",
    "arr5=arr[4001:5000,:] \n",
    "train_arr5=arr[0:4000,:] "
   ]
  },
  {
   "cell_type": "code",
   "execution_count": null,
   "metadata": {
    "id": "3PPWiCCzWetT"
   },
   "outputs": [],
   "source": [
    "import matplotlib.pyplot as plt \n",
    "import seaborn as sns \n",
    "\n",
    "from sklearn.linear_model import LinearRegression \n",
    "mlr = LinearRegression() \n",
    "mlr.fit(train_arrl[:,:-1], train_arrl[:,-1]) "
   ]
  },
  {
   "cell_type": "code",
   "execution_count": null,
   "metadata": {
    "id": "qYxPBL-vWiGU"
   },
   "outputs": [],
   "source": [
    "print(\"Intercept: \", mlr.intercept_) \n",
    "print(\"Coefficients:\") \n",
    "list(zip(train_arrl[:,:-1], mlr.coef_)) "
   ]
  },
  {
   "cell_type": "code",
   "execution_count": null,
   "metadata": {
    "id": "9NMA-00zWkpN"
   },
   "outputs": [],
   "source": [
    "y_pred_mlr= mlr.predict(arrl[:,:-1]) \n",
    "len(arrl[:,:-1])  "
   ]
  },
  {
   "cell_type": "code",
   "execution_count": null,
   "metadata": {
    "id": "VNDEbb8EWo3v"
   },
   "outputs": [],
   "source": [
    "mlr_diff = pd.DataFrame({'Actual value': arrl[:,-1], 'Predicted value': y_pred_mlr}) \n",
    "mlr_diff.head()"
   ]
  },
  {
   "cell_type": "code",
   "execution_count": null,
   "metadata": {
    "id": "sgVvdcLCWqRf"
   },
   "outputs": [],
   "source": [
    "from sklearn.metrics import r2_score \n",
    "r2_score(arrl[:,-1], y_pred_mlr) "
   ]
  },
  {
   "cell_type": "code",
   "execution_count": null,
   "metadata": {
    "id": "Yet1tSaEWtjb"
   },
   "outputs": [],
   "source": [
    "mlr2 = LinearRegression() \n",
    "mlr2.fit(train_arr2[:,:-1], train_arr2[:,-1]) \n",
    "print(\"Intercept: \", mlr2.intercept_) \n",
    "print(\"Coefficients:\") \n",
    "list(zip(train_arr2[:,:-1], mlr2.coef_)) "
   ]
  },
  {
   "cell_type": "code",
   "execution_count": null,
   "metadata": {
    "id": "HRQb74zmWx9I"
   },
   "outputs": [],
   "source": [
    "y_pred_mlr2= mlr2.predict(arr2[:,:-1]) \n",
    "len(arr2[:,:-1]) "
   ]
  },
  {
   "cell_type": "code",
   "execution_count": null,
   "metadata": {
    "id": "KwlubNi3W4Yn"
   },
   "outputs": [],
   "source": [
    "mlr_diff2 = pd.DataFrame({'Actual value': arr2[:,-1], 'Predicted value': y_pred_mlr2}) \n",
    "print(mlr_diff2.head()) \n",
    "r2_score(arr2[:,-1], y_pred_mlr2) "
   ]
  },
  {
   "cell_type": "code",
   "execution_count": null,
   "metadata": {
    "id": "iwmqM71mW47m"
   },
   "outputs": [],
   "source": [
    "mlr3 = LinearRegression() \n",
    "mlr3.fit(train_arr3[:,:-1], train_arr3[:,-1]) \n",
    "print(\"Intercept: \", mlr3.intercept_) \n",
    "print(\"Coefficients:\") \n",
    "list(zip(train_arr3[:,:-1], mlr3.coef_)) \n",
    "\n",
    "y_pred_mlr3= mlr3.predict(arr3[:,:-1]) \n",
    "\n",
    "len(arr3[:,:-1]) \n",
    "mlr_diff3 = pd.DataFrame({'Actual value': arr3[:,-1], 'Predicted value': y_pred_mlr3}) \n",
    "print(mlr_diff3.head()) \n",
    "r2_score(arr3[:,-1], y_pred_mlr3)"
   ]
  },
  {
   "cell_type": "code",
   "execution_count": null,
   "metadata": {
    "id": "Rov2z88MW74-"
   },
   "outputs": [],
   "source": [
    "mlr4 = LinearRegression() \n",
    "mlr4.fit(train_arr4[:,:-1], train_arr4[:,-1]) \n",
    "print(\"Intercept: \", mlr4.intercept_) \n",
    "print(\"Coefficients:\") \n",
    "list(zip(train_arr4[:,:-1], mlr4.coef_)) \n",
    "y_pred_mlr4= mlr4.predict(arr3[:,:-1]) "
   ]
  },
  {
   "cell_type": "code",
   "execution_count": null,
   "metadata": {
    "id": "xs0PcNnAXAub"
   },
   "outputs": [],
   "source": [
    "mlr_diff4 = pd.DataFrame({'Actual value': arr4[:,-1], 'Predicted value': y_pred_mlr4}) \n",
    "print(mlr_diff4.head()) "
   ]
  },
  {
   "cell_type": "code",
   "execution_count": null,
   "metadata": {
    "id": "-gvLL1rZXDa8"
   },
   "outputs": [],
   "source": [
    "r2_score(arr4[:,-1], y_pred_mlr4) "
   ]
  },
  {
   "cell_type": "code",
   "execution_count": null,
   "metadata": {
    "id": "W5nRSXfCXNd7"
   },
   "outputs": [],
   "source": [
    "mlr5 = LinearRegression() \n",
    "mlr5.fit(train_arr5[:,:-1], train_arr5[:,-1]) \n",
    "print(\"Intercept: \", mlr5.intercept_) \n",
    "print(\"Coefficients:\") \n",
    "list(zip(train_arr5[:,:-1], mlr5.coef_)) \n",
    "\n",
    "\n",
    "y_pred_mlr5= mlr5.predict(arr3[:,:-1]) \n",
    "\n",
    "\n",
    "len(arr5[:,:-1]) \n",
    "mlr_diff5 = pd.DataFrame({'Actual value': arr5[:,-1], 'Predicted value': y_pred_mlr5}) \n",
    "print(mlr_diff5.head()) \n",
    "r2_score(arr5[:,-1], y_pred_mlr5) "
   ]
  },
  {
   "cell_type": "code",
   "execution_count": null,
   "metadata": {
    "id": "ECFYflmRXmsp"
   },
   "outputs": [],
   "source": [
    "#Q2\n",
    "#Load the Hitters dataset from the following link\n",
    "#(a) Pre-process the data (null values, noise, categorical to numerical encoding)\n",
    "#(b) Separate input and output features and perform scaling\n",
    "#(c) Fit a Linear, Ridge (use regularization parameter as 0.5748), and LASSO (use regularization parameter as 0.5748)\n",
    "# regression function on the dataset.\n",
    "#(d) Evaluate the performance of each trained model on test set. Which model performs the best and Why?\n",
    "\n",
    "#AND\n",
    "\n",
    "#Q3\n",
    "#Cross Validation for Ridge and Lasso Regression Explore Ridge Cross Validation (RidgeCV) and Lasso Cross Validation (LassoCV)\n",
    "#function of Python. Implement both on Boston House Prediction Dataset (load_boston dataset from sklearn.datasets)."
   ]
  },
  {
   "cell_type": "code",
   "execution_count": null,
   "metadata": {
    "id": "lPs7zdf2X32U"
   },
   "outputs": [],
   "source": [
    "from mpl_toolkits.mplot3d import Axes3D "
   ]
  },
  {
   "cell_type": "code",
   "execution_count": null,
   "metadata": {
    "id": "rY-CMFRFYFuv"
   },
   "outputs": [],
   "source": [
    "def plotChart(iterations, cost_num):\n",
    "    fig, ax = plt.subplots() \n",
    "    ax.plot(np.arange(iterations), cost_num, 'r') \n",
    "    ax.set_xlabel('Iterations') \n",
    "    ax.set_ylabel('Cost') \n",
    "    ax.set_title('Error vs Iterations') \n",
    "    plt.style.use('fivethirtyeight') \n",
    "    plt.show() "
   ]
  },
  {
   "cell_type": "code",
   "execution_count": null,
   "metadata": {
    "id": "god8gJVJYIzd"
   },
   "outputs": [],
   "source": [
    "def cost_function(X, y, theta):\n",
    "    m = y.size \n",
    "    error = np.dot(X, theta.T) - y \n",
    "    cost = 1/(2*m) * np.dot(error.T, error) \n",
    "    return cost, error "
   ]
  },
  {
   "cell_type": "code",
   "execution_count": null,
   "metadata": {
    "id": "baeerKpcYNWE"
   },
   "outputs": [],
   "source": [
    "def gradient_descent(X, y, theta, alpha, iters):\n",
    "    cost_array = np.zeros(iters) \n",
    "    m = y.size \n",
    "    for i in range(iters):\n",
    "        cost, error = cost_function(X, y, theta) \n",
    "        theta = theta - (alpha * (1/m) * np.dot(X.T, error)) \n",
    "        cost_array[i] = cost \n",
    "    return theta, cost_array "
   ]
  },
  {
   "cell_type": "code",
   "execution_count": null,
   "metadata": {
    "id": "vPkf6Av5YQoe"
   },
   "outputs": [],
   "source": [
    "def run():\n",
    "   \n",
    "    data = pd.read_csv('USA_Housing.csv') \n",
    "    \n",
    "    X = data.iloc[1:2801,:-1] \n",
    "    y = data.iloc[1:2801,-1] \n",
    "    \n",
    "    X = (X - X.mean()) / X.std() \n",
    "    \n",
    "    X = np.c_[np.ones(X.shape[0]), X] \n",
    "    \n",
    "    alpha = 0.01 \n",
    "    iterations = 1000 \n",
    "    \n",
    "    theta = np.zeros(X.shape[1]) \n",
    "    initial_cost, _ = cost_function(X, y, theta) \n",
    "    print('With initial theta values of {0}, cost error is {1}'.format(theta, initial_cost)) \n",
    "    \n",
    "    theta, cost_num = gradient_descent(X, y, theta, alpha, iterations) \n",
    "    \n",
    "    plotChart(iterations, cost_num) \n",
    "    final_cost, _ = cost_function(X, y, theta) \n",
    "    print('With final theta values of {0}, cost error is {1}'.format(theta, final_cost)) \n",
    "    X1 = data.iloc[2801:,:-1] \n",
    "    y1 = data.iloc[2801:,-1] \n",
    "    X1 = (X1 - X1.mean()) / X1.std() \n",
    "   \n",
    "    X1 = np.c_[np.ones(X1.shape[0]), X1] \n",
    "    print (X1. shape) \n",
    "    print(y1.shape) \n",
    "    print(theta.shape) \n",
    "     \n",
    "    print(r2_score(y1, np.dot(X1, theta.T))) "
   ]
  },
  {
   "cell_type": "code",
   "execution_count": null,
   "metadata": {
    "id": "bAxllVg4YSCA"
   },
   "outputs": [],
   "source": [
    "run()"
   ]
  },
  {
   "cell_type": "code",
   "execution_count": null,
   "metadata": {
    "id": "wrKq9ob0YauF"
   },
   "outputs": [],
   "source": [
    "headers = [\"symboling\", \"normalized_losses\", \"make\", \"fuel_type\", \"aspiration\", \"num_doors\", \"body_style\", \"drive_wheels\", \"engine_location\", \"wheel_base\", \"length\", \"width\", \n",
    "\"height\", \"curb_weight\", \"engine_type\", \"num_cylinders\", \"engine_size\", \"fuel_system\", \"bore\", \"stroke\", \"compression_ratio\", \"horsepower\", \"peak_rpm\", \"city_mpg\", \"highway_mpg\",\n",
    " \"price\"] "
   ]
  },
  {
   "cell_type": "code",
   "execution_count": null,
   "metadata": {
    "id": "g6HKyl0ZYhJ5"
   },
   "outputs": [],
   "source": [
    "df = pd.read_csv(\"https://archive.ics.uci.edu/ml/machine-learning-databases/autos/imports-85.data\", header=None, names=headers, na_values=\"?\" ) "
   ]
  },
  {
   "cell_type": "code",
   "execution_count": null,
   "metadata": {
    "id": "Qy7DiFpYYmnr"
   },
   "outputs": [],
   "source": [
    "df.head()"
   ]
  },
  {
   "cell_type": "code",
   "execution_count": null,
   "metadata": {
    "id": "ACjJJCZAYqGM"
   },
   "outputs": [],
   "source": [
    "df=df.dropna(subset = ['price'])\n",
    "df=df.fillna(df.mean())"
   ]
  },
  {
   "cell_type": "code",
   "execution_count": null,
   "metadata": {
    "id": "ZB3klZmaYvae"
   },
   "outputs": [],
   "source": [
    "t = df[\"num_cylinders\"] .value_counts() \n",
    "t_mask = df[\"num_doors\"].value_counts() \n",
    "print(t) \n",
    "print(t_mask) \n",
    "display(df) "
   ]
  },
  {
   "cell_type": "code",
   "execution_count": null,
   "metadata": {
    "id": "N5r7oMp0Yv4Z"
   },
   "outputs": [],
   "source": [
    "cleanup_nums = {\"num_doors\":{\"four\": 4, \"two\": 2}, \"num_cylinders\" :{\"four\": 4, \"six\": 6, \"five\":5, \"two\":2, \"three\":3, \"eight\":8, \"twelve\":12}}"
   ]
  },
  {
   "cell_type": "code",
   "execution_count": null,
   "metadata": {
    "id": "DwekYhc9Y0YK"
   },
   "outputs": [],
   "source": [
    "df.replace(cleanup_nums, inplace=True)"
   ]
  },
  {
   "cell_type": "code",
   "execution_count": null,
   "metadata": {
    "id": "yqfTtdHdY2-p"
   },
   "outputs": [],
   "source": [
    "df"
   ]
  },
  {
   "cell_type": "code",
   "execution_count": null,
   "metadata": {
    "id": "7oggK9TlY6tx"
   },
   "outputs": [],
   "source": [
    "df=pd.get_dummies(df, columns=['body_style', 'drive_wheels'], prefix=[\"body\", \"drive\"]) "
   ]
  },
  {
   "cell_type": "code",
   "execution_count": null,
   "metadata": {
    "id": "_WSZnGmzY_Oe"
   },
   "outputs": [],
   "source": [
    "df['fuel_type'] = df['fuel_type'].astype('category') \n",
    "df.dtypes "
   ]
  },
  {
   "cell_type": "code",
   "execution_count": null,
   "metadata": {
    "id": "2wPGv8F2ZAO6"
   },
   "outputs": [],
   "source": [
    "df[\"fuel_type\"].value_counts()"
   ]
  },
  {
   "cell_type": "code",
   "execution_count": null,
   "metadata": {
    "id": "vogTG0VcZHax"
   },
   "outputs": [],
   "source": [
    "df[\"fuel_type_cat\"] = df['fuel_type'].cat.codes"
   ]
  },
  {
   "cell_type": "code",
   "execution_count": null,
   "metadata": {
    "id": "7Dw6tfcKZJtG"
   },
   "outputs": [],
   "source": [
    "df"
   ]
  },
  {
   "cell_type": "code",
   "execution_count": null,
   "metadata": {
    "id": "5XuwuuxLZLM9"
   },
   "outputs": [],
   "source": [
    "df['make'] = df['make'].astype('category') \n",
    "tt_masked=df[\"make\"].value_counts() \n",
    "print(tt_masked) "
   ]
  },
  {
   "cell_type": "code",
   "execution_count": null,
   "metadata": {
    "id": "HO9OpD4PZPY7"
   },
   "outputs": [],
   "source": [
    "df[\"make_cat\"] = df['make'].cat.codes \n",
    "df"
   ]
  },
  {
   "cell_type": "code",
   "execution_count": null,
   "metadata": {
    "id": "j1UTPcceZU2O"
   },
   "outputs": [],
   "source": [
    "df['aspiration'] = df['aspiration'].astype('category') \n",
    "tt_masked=df[\"aspiration\"].value_counts() \n",
    "print(tt_masked)"
   ]
  },
  {
   "cell_type": "code",
   "execution_count": null,
   "metadata": {
    "id": "HCweKTy1ZbuD"
   },
   "outputs": [],
   "source": [
    "df[\"aspiration_cat\"] = df['aspiration'].cat.codes \n",
    "df"
   ]
  },
  {
   "cell_type": "code",
   "execution_count": null,
   "metadata": {
    "id": "wCMISouwZdmg"
   },
   "outputs": [],
   "source": [
    "df['engine_location'] = df['engine_location'].astype('category') \n",
    "tt_masked=df[\"engine_location\"].value_counts() \n",
    "print(tt_masked)"
   ]
  },
  {
   "cell_type": "code",
   "execution_count": null,
   "metadata": {
    "id": "XMsyVNp1Zjmw"
   },
   "outputs": [],
   "source": [
    "df[\"engine_location\"] = df['engine_location'].cat.codes\n",
    "df"
   ]
  },
  {
   "cell_type": "code",
   "execution_count": null,
   "metadata": {
    "id": "AV4Q36qJaTEq"
   },
   "outputs": [],
   "source": [
    "df[\"fuel_system\"] = np.where(df[\"fuel_system\"].str.contains(\"pfi\"), 1, 0) "
   ]
  },
  {
   "cell_type": "code",
   "execution_count": null,
   "metadata": {
    "id": "HcmPSDD5aUcw"
   },
   "outputs": [],
   "source": [
    "df[\"fuel_system\"]"
   ]
  }
 ],
 "metadata": {
  "language_info": {
   "name": "python"
  },
  "orig_nbformat": 4
 },
 "nbformat": 4,
 "nbformat_minor": 2
}
