{
  "cells": [
    {
      "cell_type": "markdown",
      "metadata": {
        "id": "XgRWJv28cOCK"
      },
      "source": [
        "Name-Sarthak Narang, \n",
        "Group- 3COE19, \n",
        "Roll No- 102003627"
      ]
    },
    {
      "cell_type": "code",
      "execution_count": null,
      "metadata": {
        "id": "BN2yXmiVe8le"
      },
      "outputs": [],
      "source": [
        "import pandas as pd\n",
        "import numpy as np\n",
        "import seaborn as sns\n",
        "import matplotlib.pyplot as plt\n",
        "from sklearn.datasets import load_iris"
      ]
    },
    {
      "cell_type": "markdown",
      "metadata": {
        "id": "fJRl6pGCEz5C"
      },
      "source": [
        "### Question 1"
      ]
    },
    {
      "cell_type": "code",
      "execution_count": null,
      "metadata": {
        "colab": {
          "base_uri": "https://localhost:8080/",
          "height": 204
        },
        "id": "x7YdYNxi4uqP",
        "outputId": "b44acba3-e939-4003-caa3-8f27da5480ad"
      },
      "outputs": [
        {
          "data": {
            "text/html": [
              "\n",
              "  <div id=\"df-5c69efe5-47d2-4daf-bc58-f72143c68f29\">\n",
              "    <div class=\"colab-df-container\">\n",
              "      <div>\n",
              "<style scoped>\n",
              "    .dataframe tbody tr th:only-of-type {\n",
              "        vertical-align: middle;\n",
              "    }\n",
              "\n",
              "    .dataframe tbody tr th {\n",
              "        vertical-align: top;\n",
              "    }\n",
              "\n",
              "    .dataframe thead th {\n",
              "        text-align: right;\n",
              "    }\n",
              "</style>\n",
              "<table border=\"1\" class=\"dataframe\">\n",
              "  <thead>\n",
              "    <tr style=\"text-align: right;\">\n",
              "      <th></th>\n",
              "      <th>sepal length (cm)</th>\n",
              "      <th>sepal width (cm)</th>\n",
              "      <th>petal length (cm)</th>\n",
              "      <th>petal width (cm)</th>\n",
              "      <th>target</th>\n",
              "    </tr>\n",
              "  </thead>\n",
              "  <tbody>\n",
              "    <tr>\n",
              "      <th>0</th>\n",
              "      <td>5.1</td>\n",
              "      <td>3.5</td>\n",
              "      <td>1.4</td>\n",
              "      <td>0.2</td>\n",
              "      <td>0.0</td>\n",
              "    </tr>\n",
              "    <tr>\n",
              "      <th>1</th>\n",
              "      <td>4.9</td>\n",
              "      <td>3.0</td>\n",
              "      <td>1.4</td>\n",
              "      <td>0.2</td>\n",
              "      <td>0.0</td>\n",
              "    </tr>\n",
              "    <tr>\n",
              "      <th>2</th>\n",
              "      <td>4.7</td>\n",
              "      <td>3.2</td>\n",
              "      <td>1.3</td>\n",
              "      <td>0.2</td>\n",
              "      <td>0.0</td>\n",
              "    </tr>\n",
              "    <tr>\n",
              "      <th>3</th>\n",
              "      <td>4.6</td>\n",
              "      <td>3.1</td>\n",
              "      <td>1.5</td>\n",
              "      <td>0.2</td>\n",
              "      <td>0.0</td>\n",
              "    </tr>\n",
              "    <tr>\n",
              "      <th>4</th>\n",
              "      <td>5.0</td>\n",
              "      <td>3.6</td>\n",
              "      <td>1.4</td>\n",
              "      <td>0.2</td>\n",
              "      <td>0.0</td>\n",
              "    </tr>\n",
              "  </tbody>\n",
              "</table>\n",
              "</div>\n",
              "      <button class=\"colab-df-convert\" onclick=\"convertToInteractive('df-5c69efe5-47d2-4daf-bc58-f72143c68f29')\"\n",
              "              title=\"Convert this dataframe to an interactive table.\"\n",
              "              style=\"display:none;\">\n",
              "        \n",
              "  <svg xmlns=\"http://www.w3.org/2000/svg\" height=\"24px\"viewBox=\"0 0 24 24\"\n",
              "       width=\"24px\">\n",
              "    <path d=\"M0 0h24v24H0V0z\" fill=\"none\"/>\n",
              "    <path d=\"M18.56 5.44l.94 2.06.94-2.06 2.06-.94-2.06-.94-.94-2.06-.94 2.06-2.06.94zm-11 1L8.5 8.5l.94-2.06 2.06-.94-2.06-.94L8.5 2.5l-.94 2.06-2.06.94zm10 10l.94 2.06.94-2.06 2.06-.94-2.06-.94-.94-2.06-.94 2.06-2.06.94z\"/><path d=\"M17.41 7.96l-1.37-1.37c-.4-.4-.92-.59-1.43-.59-.52 0-1.04.2-1.43.59L10.3 9.45l-7.72 7.72c-.78.78-.78 2.05 0 2.83L4 21.41c.39.39.9.59 1.41.59.51 0 1.02-.2 1.41-.59l7.78-7.78 2.81-2.81c.8-.78.8-2.07 0-2.86zM5.41 20L4 18.59l7.72-7.72 1.47 1.35L5.41 20z\"/>\n",
              "  </svg>\n",
              "      </button>\n",
              "      \n",
              "  <style>\n",
              "    .colab-df-container {\n",
              "      display:flex;\n",
              "      flex-wrap:wrap;\n",
              "      gap: 12px;\n",
              "    }\n",
              "\n",
              "    .colab-df-convert {\n",
              "      background-color: #E8F0FE;\n",
              "      border: none;\n",
              "      border-radius: 50%;\n",
              "      cursor: pointer;\n",
              "      display: none;\n",
              "      fill: #1967D2;\n",
              "      height: 32px;\n",
              "      padding: 0 0 0 0;\n",
              "      width: 32px;\n",
              "    }\n",
              "\n",
              "    .colab-df-convert:hover {\n",
              "      background-color: #E2EBFA;\n",
              "      box-shadow: 0px 1px 2px rgba(60, 64, 67, 0.3), 0px 1px 3px 1px rgba(60, 64, 67, 0.15);\n",
              "      fill: #174EA6;\n",
              "    }\n",
              "\n",
              "    [theme=dark] .colab-df-convert {\n",
              "      background-color: #3B4455;\n",
              "      fill: #D2E3FC;\n",
              "    }\n",
              "\n",
              "    [theme=dark] .colab-df-convert:hover {\n",
              "      background-color: #434B5C;\n",
              "      box-shadow: 0px 1px 3px 1px rgba(0, 0, 0, 0.15);\n",
              "      filter: drop-shadow(0px 1px 2px rgba(0, 0, 0, 0.3));\n",
              "      fill: #FFFFFF;\n",
              "    }\n",
              "  </style>\n",
              "\n",
              "      <script>\n",
              "        const buttonEl =\n",
              "          document.querySelector('#df-5c69efe5-47d2-4daf-bc58-f72143c68f29 button.colab-df-convert');\n",
              "        buttonEl.style.display =\n",
              "          google.colab.kernel.accessAllowed ? 'block' : 'none';\n",
              "\n",
              "        async function convertToInteractive(key) {\n",
              "          const element = document.querySelector('#df-5c69efe5-47d2-4daf-bc58-f72143c68f29');\n",
              "          const dataTable =\n",
              "            await google.colab.kernel.invokeFunction('convertToInteractive',\n",
              "                                                     [key], {});\n",
              "          if (!dataTable) return;\n",
              "\n",
              "          const docLinkHtml = 'Like what you see? Visit the ' +\n",
              "            '<a target=\"_blank\" href=https://colab.research.google.com/notebooks/data_table.ipynb>data table notebook</a>'\n",
              "            + ' to learn more about interactive tables.';\n",
              "          element.innerHTML = '';\n",
              "          dataTable['output_type'] = 'display_data';\n",
              "          await google.colab.output.renderOutput(dataTable, element);\n",
              "          const docLink = document.createElement('div');\n",
              "          docLink.innerHTML = docLinkHtml;\n",
              "          element.appendChild(docLink);\n",
              "        }\n",
              "      </script>\n",
              "    </div>\n",
              "  </div>\n",
              "  "
            ],
            "text/plain": [
              "   sepal length (cm)  sepal width (cm)  petal length (cm)  petal width (cm)  \\\n",
              "0                5.1               3.5                1.4               0.2   \n",
              "1                4.9               3.0                1.4               0.2   \n",
              "2                4.7               3.2                1.3               0.2   \n",
              "3                4.6               3.1                1.5               0.2   \n",
              "4                5.0               3.6                1.4               0.2   \n",
              "\n",
              "   target  \n",
              "0     0.0  \n",
              "1     0.0  \n",
              "2     0.0  \n",
              "3     0.0  \n",
              "4     0.0  "
            ]
          },
          "execution_count": 132,
          "metadata": {},
          "output_type": "execute_result"
        }
      ],
      "source": [
        "iris_data = load_iris()\n",
        "iris_df = pd.DataFrame(data=np.c_[iris_data['data'], iris_data['target']], columns=iris_data['feature_names']+['target'])\n",
        "iris_df.head()"
      ]
    },
    {
      "cell_type": "code",
      "execution_count": null,
      "metadata": {
        "id": "7P5xzUNQ-K0X"
      },
      "outputs": [],
      "source": [
        "iris_df.loc[(iris_df[\"target\"])>0] = 1"
      ]
    },
    {
      "cell_type": "code",
      "execution_count": null,
      "metadata": {
        "colab": {
          "base_uri": "https://localhost:8080/"
        },
        "id": "wy7N6W4kQQcu",
        "outputId": "d86c7799-8b28-4f6e-d0de-61f19594ccce"
      },
      "outputs": [
        {
          "data": {
            "text/plain": [
              "array([0., 1.])"
            ]
          },
          "execution_count": 134,
          "metadata": {},
          "output_type": "execute_result"
        }
      ],
      "source": [
        "iris_df[\"target\"].unique()"
      ]
    },
    {
      "cell_type": "code",
      "execution_count": null,
      "metadata": {
        "colab": {
          "base_uri": "https://localhost:8080/"
        },
        "id": "CDnugQlmQVl9",
        "outputId": "7fdf1619-2db8-442f-faaa-96a86923da44"
      },
      "outputs": [
        {
          "data": {
            "text/plain": [
              "sepal length (cm)    0\n",
              "sepal width (cm)     0\n",
              "petal length (cm)    0\n",
              "petal width (cm)     0\n",
              "target               0\n",
              "dtype: int64"
            ]
          },
          "execution_count": 135,
          "metadata": {},
          "output_type": "execute_result"
        }
      ],
      "source": [
        "iris_df.isna().sum()"
      ]
    },
    {
      "cell_type": "code",
      "execution_count": null,
      "metadata": {
        "colab": {
          "base_uri": "https://localhost:8080/",
          "height": 296
        },
        "id": "558tRh3LS0Oq",
        "outputId": "851765fa-f167-4a1c-89f9-8f900ef7c68b"
      },
      "outputs": [
        {
          "data": {
            "text/plain": [
              "<matplotlib.axes._subplots.AxesSubplot at 0x7f020394a690>"
            ]
          },
          "execution_count": 136,
          "metadata": {},
          "output_type": "execute_result"
        },
        {
          "data": {
            "image/png": "[encoded data removed]",
            "text/plain": [
              "<Figure size 432x288 with 1 Axes>"
            ]
          },
          "metadata": {
            "needs_background": "light"
          },
          "output_type": "display_data"
        }
      ],
      "source": [
        "sns.countplot(y=iris_df.iloc[:,4], data=iris_df)"
      ]
    },
    {
      "cell_type": "code",
      "execution_count": null,
      "metadata": {
        "colab": {
          "base_uri": "https://localhost:8080/",
          "height": 364
        },
        "id": "jqgxVjJK2px-",
        "outputId": "43cd2712-f9fe-460b-ffde-7d4e71095750"
      },
      "outputs": [
        {
          "data": {
            "text/plain": [
              "<matplotlib.axes._subplots.AxesSubplot at 0x7f020361b050>"
            ]
          },
          "execution_count": 137,
          "metadata": {},
          "output_type": "execute_result"
        },
        {
          "data": {
            "image/png": "[encoded data removed]",
            "text/plain": [
              "<Figure size 432x288 with 2 Axes>"
            ]
          },
          "metadata": {
            "needs_background": "light"
          },
          "output_type": "display_data"
        }
      ],
      "source": [
        "sns.heatmap(iris_df.corr(), annot=True)"
      ]
    },
    {
      "cell_type": "code",
      "execution_count": null,
      "metadata": {
        "id": "iRpLNa0YCBpz"
      },
      "outputs": [],
      "source": [
        "X = iris_df.drop(\"target\", axis=1)\n",
        "Y = iris_df.iloc[:,4]"
      ]
    },
    {
      "cell_type": "code",
      "execution_count": null,
      "metadata": {
        "id": "yFaQUXAUBQ5p"
      },
      "outputs": [],
      "source": [
        "from sklearn.preprocessing import StandardScaler\n",
        "ss = StandardScaler()\n",
        "X_scaled = ss.fit_transform(X)\n",
        "X_scaled=np.insert(X_scaled,0,values=1,axis=1)"
      ]
    },
    {
      "cell_type": "code",
      "execution_count": null,
      "metadata": {
        "colab": {
          "base_uri": "https://localhost:8080/"
        },
        "id": "_7muUrttCgc6",
        "outputId": "10774d12-406a-4c85-95fe-55a1ee702e1f"
      },
      "outputs": [
        {
          "name": "stdout",
          "output_type": "stream",
          "text": [
            "x_train.shape =  (105, 5)\n",
            "x_test.shape =  (45, 5)\n",
            "y_train.shape =  (105,)\n",
            "y_test.shape =  (45,)\n"
          ]
        }
      ],
      "source": [
        "from sklearn.model_selection import train_test_split\n",
        "x_train, x_test, y_train, y_test = train_test_split(X_scaled, Y, test_size=0.3, random_state=42)\n",
        "print(\"x_train.shape = \", x_train.shape)\n",
        "print(\"x_test.shape = \", x_test.shape)\n",
        "print(\"y_train.shape = \", y_train.shape)\n",
        "print(\"y_test.shape = \", y_test.shape)"
      ]
    },
    {
      "cell_type": "code",
      "execution_count": null,
      "metadata": {
        "colab": {
          "base_uri": "https://localhost:8080/"
        },
        "id": "D9__ca8oDLCV",
        "outputId": "32c1b5ab-1873-4724-95b5-e1914ea4e460"
      },
      "outputs": [
        {
          "name": "stdout",
          "output_type": "stream",
          "text": [
            "[ 0.64222568 -0.92443656 -0.89968101 -0.8190506   0.93144237]\n"
          ]
        }
      ],
      "source": [
        "n = 1000\n",
        "alpha = 0.01\n",
        "m,k = x_train.shape\n",
        "beta = np.zeros(k)\n",
        "for i in range(n):\n",
        "    cost_gradient = np.zeros(k)\n",
        "    z = x_train.dot(beta)\n",
        "    predicted = 1/(1+np.exp(-z))\n",
        "    difference = predicted - y_train\n",
        "    for j in range(k):\n",
        "        cost_gradient[j] = np.sum(difference.dot(x_train[:,j]))\n",
        "    for j in range(k):\n",
        "        beta[j] = beta[j] - (alpha/m)*cost_gradient[j]\n",
        "print(beta)"
      ]
    },
    {
      "cell_type": "code",
      "execution_count": null,
      "metadata": {
        "id": "ldtCTBWFEeMh"
      },
      "outputs": [],
      "source": [
        "y_pred = 1/(1+np.exp(-(x_test.dot(beta))))\n",
        "y_label = np.zeros(len(y_pred))\n",
        "for i in range(len(y_pred)):\n",
        "    if(y_pred[i]>=0.5):\n",
        "        y_label[i]=1"
      ]
    },
    {
      "cell_type": "code",
      "execution_count": null,
      "metadata": {
        "colab": {
          "base_uri": "https://localhost:8080/"
        },
        "id": "2xBUB9MOE2xd",
        "outputId": "cd9cf8e2-585b-4e9f-d815-ebdfb35184f8"
      },
      "outputs": [
        {
          "name": "stdout",
          "output_type": "stream",
          "text": [
            "True Positive =  26\n",
            "True Negative =  19\n",
            "False Positive =  0\n",
            "False Negative =  0\n"
          ]
        }
      ],
      "source": [
        "tp = 0\n",
        "tn = 0\n",
        "fp = 0\n",
        "fn = 0\n",
        "y_test = np.array(y_test).reshape(-1,1)\n",
        "for i in range(len(y_label)):\n",
        "    if(y_test[i]==1 and y_label[i]==1):\n",
        "        tp+=1\n",
        "    if(y_test[i]==1 and y_label[i]==0):\n",
        "        fn+=1\n",
        "    if(y_test[i]==0 and y_label[i]==0):\n",
        "        tn+=1\n",
        "    if(y_test[i]==0 and y_label[i]==1):\n",
        "        fp+=1\n",
        "\n",
        "print(\"True Positive = \", tp)\n",
        "print(\"True Negative = \", tn)\n",
        "print(\"False Positive = \", fp)\n",
        "print(\"False Negative = \", fn)\n"
      ]
    },
    {
      "cell_type": "code",
      "execution_count": null,
      "metadata": {
        "colab": {
          "base_uri": "https://localhost:8080/"
        },
        "id": "VtzX5DxoFiHX",
        "outputId": "c86e3fff-9fe3-4fcb-ec69-6cb10b3054be"
      },
      "outputs": [
        {
          "name": "stdout",
          "output_type": "stream",
          "text": [
            "Accuracy =  1.0\n",
            "Precision Positive =  1.0\n",
            "Recall Positive =  1.0\n",
            "F1_Score Positive =  1.0\n",
            "Precision Negative =  1.0\n",
            "Recall Negative =  1.0\n",
            "F1_Score Negative =  1.0\n"
          ]
        }
      ],
      "source": [
        "accuracy=(tp+tn)/(tp+tn+fp+fn)\n",
        "print(\"Accuracy = \", accuracy)\n",
        "\n",
        "precision_pos = tp/(tp+fp)\n",
        "recall_pos = tp/(tp+fn)\n",
        "f1_score_pos = 2*precision_pos*recall_pos/(precision_pos+recall_pos)\n",
        "print(\"Precision Positive = \", precision_pos)\n",
        "print(\"Recall Positive = \", recall_pos)\n",
        "print(\"F1_Score Positive = \", f1_score_pos)\n",
        "\n",
        "\n",
        "precision_neg = tn/(tn+fn)\n",
        "recall_neg = tn/(tn+fp)\n",
        "f1_score_neg = 2*precision_neg*recall_neg/(precision_neg+recall_neg)\n",
        "print(\"Precision Negative = \", precision_neg)\n",
        "print(\"Recall Negative = \", recall_neg)\n",
        "print(\"F1_Score Negative = \", f1_score_pos)"
      ]
    },
    {
      "cell_type": "code",
      "execution_count": null,
      "metadata": {
        "colab": {
          "base_uri": "https://localhost:8080/"
        },
        "id": "LKnacZd4ILmk",
        "outputId": "2ab59342-ba7c-4da9-9c92-1254fa0b1b73"
      },
      "outputs": [
        {
          "name": "stdout",
          "output_type": "stream",
          "text": [
            "Macro Precision =  1.0\n",
            "Macro Recall =  1.0\n",
            "Macro F1_Score =  1.0\n"
          ]
        }
      ],
      "source": [
        "\n",
        "\n",
        "macro_precision = (precision_pos + precision_neg)/2\n",
        "macro_recall = (recall_pos + recall_neg)/2\n",
        "macro_f1_score = (f1_score_pos + f1_score_neg)/2\n",
        "print(\"Macro Precision = \", macro_precision)\n",
        "print(\"Macro Recall = \", macro_recall)\n",
        "print(\"Macro F1_Score = \", macro_f1_score)"
      ]
    },
    {
      "cell_type": "code",
      "execution_count": null,
      "metadata": {
        "colab": {
          "base_uri": "https://localhost:8080/"
        },
        "id": "OSAe69H4J93C",
        "outputId": "722a1e48-b078-4494-a22f-6212ec8cbdc3"
      },
      "outputs": [
        {
          "name": "stdout",
          "output_type": "stream",
          "text": [
            "Weighted Precision =  1.0\n",
            "Weighted Recall =  1.0\n",
            "Weighted F1_Score =  1.0\n"
          ]
        }
      ],
      "source": [
        "l1 = len(y_test[y_test==0])\n",
        "l2 = len(y_test[y_test==1])\n",
        "weighted_precision = (l1*precision_neg + l2*precision_pos)/(l1+l2)\n",
        "weighted_recall = (l1*recall_neg + l2*recall_pos)/(l1+l2)\n",
        "weighted_f1_score = (l1*f1_score_neg + l2*f1_score_pos)/(l1+l2)\n",
        "print(\"Weighted Precision = \", weighted_precision)\n",
        "print(\"Weighted Recall = \", weighted_recall)\n",
        "print(\"Weighted F1_Score = \", weighted_f1_score)"
      ]
    },
    {
      "cell_type": "markdown",
      "metadata": {
        "id": "2HVS6Vj4KhQI"
      },
      "source": [
        "### Question 2"
      ]
    },
    {
      "cell_type": "code",
      "execution_count": null,
      "metadata": {
        "id": "8-RbfrZ12au2"
      },
      "outputs": [],
      "source": [
        "headers = [\"col1\", \"col2\", \"target\"]"
      ]
    },
    {
      "cell_type": "code",
      "execution_count": null,
      "metadata": {
        "colab": {
          "base_uri": "https://localhost:8080/",
          "height": 204
        },
        "id": "kme4smLoKkD_",
        "outputId": "c65834f6-74cf-4326-f0da-74b73eb2e907"
      },
      "outputs": [
        {
          "data": {
            "text/html": [
              "\n",
              "  <div id=\"df-eb4e727a-dbb9-4c47-9915-c045bc97a121\">\n",
              "    <div class=\"colab-df-container\">\n",
              "      <div>\n",
              "<style scoped>\n",
              "    .dataframe tbody tr th:only-of-type {\n",
              "        vertical-align: middle;\n",
              "    }\n",
              "\n",
              "    .dataframe tbody tr th {\n",
              "        vertical-align: top;\n",
              "    }\n",
              "\n",
              "    .dataframe thead th {\n",
              "        text-align: right;\n",
              "    }\n",
              "</style>\n",
              "<table border=\"1\" class=\"dataframe\">\n",
              "  <thead>\n",
              "    <tr style=\"text-align: right;\">\n",
              "      <th></th>\n",
              "      <th>col1</th>\n",
              "      <th>col2</th>\n",
              "      <th>target</th>\n",
              "    </tr>\n",
              "  </thead>\n",
              "  <tbody>\n",
              "    <tr>\n",
              "      <th>0</th>\n",
              "      <td>0.051267</td>\n",
              "      <td>0.69956</td>\n",
              "      <td>1</td>\n",
              "    </tr>\n",
              "    <tr>\n",
              "      <th>1</th>\n",
              "      <td>-0.092742</td>\n",
              "      <td>0.68494</td>\n",
              "      <td>1</td>\n",
              "    </tr>\n",
              "    <tr>\n",
              "      <th>2</th>\n",
              "      <td>-0.213710</td>\n",
              "      <td>0.69225</td>\n",
              "      <td>1</td>\n",
              "    </tr>\n",
              "    <tr>\n",
              "      <th>3</th>\n",
              "      <td>-0.375000</td>\n",
              "      <td>0.50219</td>\n",
              "      <td>1</td>\n",
              "    </tr>\n",
              "    <tr>\n",
              "      <th>4</th>\n",
              "      <td>-0.513250</td>\n",
              "      <td>0.46564</td>\n",
              "      <td>1</td>\n",
              "    </tr>\n",
              "  </tbody>\n",
              "</table>\n",
              "</div>\n",
              "      <button class=\"colab-df-convert\" onclick=\"convertToInteractive('df-eb4e727a-dbb9-4c47-9915-c045bc97a121')\"\n",
              "              title=\"Convert this dataframe to an interactive table.\"\n",
              "              style=\"display:none;\">\n",
              "        \n",
              "  <svg xmlns=\"http://www.w3.org/2000/svg\" height=\"24px\"viewBox=\"0 0 24 24\"\n",
              "       width=\"24px\">\n",
              "    <path d=\"M0 0h24v24H0V0z\" fill=\"none\"/>\n",
              "    <path d=\"M18.56 5.44l.94 2.06.94-2.06 2.06-.94-2.06-.94-.94-2.06-.94 2.06-2.06.94zm-11 1L8.5 8.5l.94-2.06 2.06-.94-2.06-.94L8.5 2.5l-.94 2.06-2.06.94zm10 10l.94 2.06.94-2.06 2.06-.94-2.06-.94-.94-2.06-.94 2.06-2.06.94z\"/><path d=\"M17.41 7.96l-1.37-1.37c-.4-.4-.92-.59-1.43-.59-.52 0-1.04.2-1.43.59L10.3 9.45l-7.72 7.72c-.78.78-.78 2.05 0 2.83L4 21.41c.39.39.9.59 1.41.59.51 0 1.02-.2 1.41-.59l7.78-7.78 2.81-2.81c.8-.78.8-2.07 0-2.86zM5.41 20L4 18.59l7.72-7.72 1.47 1.35L5.41 20z\"/>\n",
              "  </svg>\n",
              "      </button>\n",
              "      \n",
              "  <style>\n",
              "    .colab-df-container {\n",
              "      display:flex;\n",
              "      flex-wrap:wrap;\n",
              "      gap: 12px;\n",
              "    }\n",
              "\n",
              "    .colab-df-convert {\n",
              "      background-color: #E8F0FE;\n",
              "      border: none;\n",
              "      border-radius: 50%;\n",
              "      cursor: pointer;\n",
              "      display: none;\n",
              "      fill: #1967D2;\n",
              "      height: 32px;\n",
              "      padding: 0 0 0 0;\n",
              "      width: 32px;\n",
              "    }\n",
              "\n",
              "    .colab-df-convert:hover {\n",
              "      background-color: #E2EBFA;\n",
              "      box-shadow: 0px 1px 2px rgba(60, 64, 67, 0.3), 0px 1px 3px 1px rgba(60, 64, 67, 0.15);\n",
              "      fill: #174EA6;\n",
              "    }\n",
              "\n",
              "    [theme=dark] .colab-df-convert {\n",
              "      background-color: #3B4455;\n",
              "      fill: #D2E3FC;\n",
              "    }\n",
              "\n",
              "    [theme=dark] .colab-df-convert:hover {\n",
              "      background-color: #434B5C;\n",
              "      box-shadow: 0px 1px 3px 1px rgba(0, 0, 0, 0.15);\n",
              "      filter: drop-shadow(0px 1px 2px rgba(0, 0, 0, 0.3));\n",
              "      fill: #FFFFFF;\n",
              "    }\n",
              "  </style>\n",
              "\n",
              "      <script>\n",
              "        const buttonEl =\n",
              "          document.querySelector('#df-eb4e727a-dbb9-4c47-9915-c045bc97a121 button.colab-df-convert');\n",
              "        buttonEl.style.display =\n",
              "          google.colab.kernel.accessAllowed ? 'block' : 'none';\n",
              "\n",
              "        async function convertToInteractive(key) {\n",
              "          const element = document.querySelector('#df-eb4e727a-dbb9-4c47-9915-c045bc97a121');\n",
              "          const dataTable =\n",
              "            await google.colab.kernel.invokeFunction('convertToInteractive',\n",
              "                                                     [key], {});\n",
              "          if (!dataTable) return;\n",
              "\n",
              "          const docLinkHtml = 'Like what you see? Visit the ' +\n",
              "            '<a target=\"_blank\" href=https://colab.research.google.com/notebooks/data_table.ipynb>data table notebook</a>'\n",
              "            + ' to learn more about interactive tables.';\n",
              "          element.innerHTML = '';\n",
              "          dataTable['output_type'] = 'display_data';\n",
              "          await google.colab.output.renderOutput(dataTable, element);\n",
              "          const docLink = document.createElement('div');\n",
              "          docLink.innerHTML = docLinkHtml;\n",
              "          element.appendChild(docLink);\n",
              "        }\n",
              "      </script>\n",
              "    </div>\n",
              "  </div>\n",
              "  "
            ],
            "text/plain": [
              "       col1     col2  target\n",
              "0  0.051267  0.69956       1\n",
              "1 -0.092742  0.68494       1\n",
              "2 -0.213710  0.69225       1\n",
              "3 -0.375000  0.50219       1\n",
              "4 -0.513250  0.46564       1"
            ]
          },
          "execution_count": 148,
          "metadata": {},
          "output_type": "execute_result"
        }
      ],
      "source": [
        "exam_df = pd.read_table(\"/content/exam6.txt\", sep=\",\", names=headers)\n",
        "exam_df.head()"
      ]
    },
    {
      "cell_type": "code",
      "execution_count": null,
      "metadata": {
        "colab": {
          "base_uri": "https://localhost:8080/"
        },
        "id": "wHFBli6M3O91",
        "outputId": "d43e2c4a-d5c6-40aa-83f2-5b23f9a33a9f"
      },
      "outputs": [
        {
          "data": {
            "text/plain": [
              "col1      0\n",
              "col2      0\n",
              "target    0\n",
              "dtype: int64"
            ]
          },
          "execution_count": 149,
          "metadata": {},
          "output_type": "execute_result"
        }
      ],
      "source": [
        "exam_df.isna().sum()"
      ]
    },
    {
      "cell_type": "code",
      "execution_count": null,
      "metadata": {
        "colab": {
          "base_uri": "https://localhost:8080/",
          "height": 297
        },
        "id": "PUX10GO83LqV",
        "outputId": "4b9f72e3-0ed0-41b1-eeb1-7c7ca9382a03"
      },
      "outputs": [
        {
          "data": {
            "text/html": [
              "\n",
              "  <div id=\"df-98eb265a-9593-4ddf-8f10-a573d46621d0\">\n",
              "    <div class=\"colab-df-container\">\n",
              "      <div>\n",
              "<style scoped>\n",
              "    .dataframe tbody tr th:only-of-type {\n",
              "        vertical-align: middle;\n",
              "    }\n",
              "\n",
              "    .dataframe tbody tr th {\n",
              "        vertical-align: top;\n",
              "    }\n",
              "\n",
              "    .dataframe thead th {\n",
              "        text-align: right;\n",
              "    }\n",
              "</style>\n",
              "<table border=\"1\" class=\"dataframe\">\n",
              "  <thead>\n",
              "    <tr style=\"text-align: right;\">\n",
              "      <th></th>\n",
              "      <th>col1</th>\n",
              "      <th>col2</th>\n",
              "      <th>target</th>\n",
              "    </tr>\n",
              "  </thead>\n",
              "  <tbody>\n",
              "    <tr>\n",
              "      <th>count</th>\n",
              "      <td>118.000000</td>\n",
              "      <td>118.000000</td>\n",
              "      <td>118.000000</td>\n",
              "    </tr>\n",
              "    <tr>\n",
              "      <th>mean</th>\n",
              "      <td>0.054779</td>\n",
              "      <td>0.183102</td>\n",
              "      <td>0.491525</td>\n",
              "    </tr>\n",
              "    <tr>\n",
              "      <th>std</th>\n",
              "      <td>0.496654</td>\n",
              "      <td>0.519743</td>\n",
              "      <td>0.502060</td>\n",
              "    </tr>\n",
              "    <tr>\n",
              "      <th>min</th>\n",
              "      <td>-0.830070</td>\n",
              "      <td>-0.769740</td>\n",
              "      <td>0.000000</td>\n",
              "    </tr>\n",
              "    <tr>\n",
              "      <th>25%</th>\n",
              "      <td>-0.372120</td>\n",
              "      <td>-0.254385</td>\n",
              "      <td>0.000000</td>\n",
              "    </tr>\n",
              "    <tr>\n",
              "      <th>50%</th>\n",
              "      <td>-0.006336</td>\n",
              "      <td>0.213455</td>\n",
              "      <td>0.000000</td>\n",
              "    </tr>\n",
              "    <tr>\n",
              "      <th>75%</th>\n",
              "      <td>0.478970</td>\n",
              "      <td>0.646563</td>\n",
              "      <td>1.000000</td>\n",
              "    </tr>\n",
              "    <tr>\n",
              "      <th>max</th>\n",
              "      <td>1.070900</td>\n",
              "      <td>1.108900</td>\n",
              "      <td>1.000000</td>\n",
              "    </tr>\n",
              "  </tbody>\n",
              "</table>\n",
              "</div>\n",
              "      <button class=\"colab-df-convert\" onclick=\"convertToInteractive('df-98eb265a-9593-4ddf-8f10-a573d46621d0')\"\n",
              "              title=\"Convert this dataframe to an interactive table.\"\n",
              "              style=\"display:none;\">\n",
              "        \n",
              "  <svg xmlns=\"http://www.w3.org/2000/svg\" height=\"24px\"viewBox=\"0 0 24 24\"\n",
              "       width=\"24px\">\n",
              "    <path d=\"M0 0h24v24H0V0z\" fill=\"none\"/>\n",
              "    <path d=\"M18.56 5.44l.94 2.06.94-2.06 2.06-.94-2.06-.94-.94-2.06-.94 2.06-2.06.94zm-11 1L8.5 8.5l.94-2.06 2.06-.94-2.06-.94L8.5 2.5l-.94 2.06-2.06.94zm10 10l.94 2.06.94-2.06 2.06-.94-2.06-.94-.94-2.06-.94 2.06-2.06.94z\"/><path d=\"M17.41 7.96l-1.37-1.37c-.4-.4-.92-.59-1.43-.59-.52 0-1.04.2-1.43.59L10.3 9.45l-7.72 7.72c-.78.78-.78 2.05 0 2.83L4 21.41c.39.39.9.59 1.41.59.51 0 1.02-.2 1.41-.59l7.78-7.78 2.81-2.81c.8-.78.8-2.07 0-2.86zM5.41 20L4 18.59l7.72-7.72 1.47 1.35L5.41 20z\"/>\n",
              "  </svg>\n",
              "      </button>\n",
              "      \n",
              "  <style>\n",
              "    .colab-df-container {\n",
              "      display:flex;\n",
              "      flex-wrap:wrap;\n",
              "      gap: 12px;\n",
              "    }\n",
              "\n",
              "    .colab-df-convert {\n",
              "      background-color: #E8F0FE;\n",
              "      border: none;\n",
              "      border-radius: 50%;\n",
              "      cursor: pointer;\n",
              "      display: none;\n",
              "      fill: #1967D2;\n",
              "      height: 32px;\n",
              "      padding: 0 0 0 0;\n",
              "      width: 32px;\n",
              "    }\n",
              "\n",
              "    .colab-df-convert:hover {\n",
              "      background-color: #E2EBFA;\n",
              "      box-shadow: 0px 1px 2px rgba(60, 64, 67, 0.3), 0px 1px 3px 1px rgba(60, 64, 67, 0.15);\n",
              "      fill: #174EA6;\n",
              "    }\n",
              "\n",
              "    [theme=dark] .colab-df-convert {\n",
              "      background-color: #3B4455;\n",
              "      fill: #D2E3FC;\n",
              "    }\n",
              "\n",
              "    [theme=dark] .colab-df-convert:hover {\n",
              "      background-color: #434B5C;\n",
              "      box-shadow: 0px 1px 3px 1px rgba(0, 0, 0, 0.15);\n",
              "      filter: drop-shadow(0px 1px 2px rgba(0, 0, 0, 0.3));\n",
              "      fill: #FFFFFF;\n",
              "    }\n",
              "  </style>\n",
              "\n",
              "      <script>\n",
              "        const buttonEl =\n",
              "          document.querySelector('#df-98eb265a-9593-4ddf-8f10-a573d46621d0 button.colab-df-convert');\n",
              "        buttonEl.style.display =\n",
              "          google.colab.kernel.accessAllowed ? 'block' : 'none';\n",
              "\n",
              "        async function convertToInteractive(key) {\n",
              "          const element = document.querySelector('#df-98eb265a-9593-4ddf-8f10-a573d46621d0');\n",
              "          const dataTable =\n",
              "            await google.colab.kernel.invokeFunction('convertToInteractive',\n",
              "                                                     [key], {});\n",
              "          if (!dataTable) return;\n",
              "\n",
              "          const docLinkHtml = 'Like what you see? Visit the ' +\n",
              "            '<a target=\"_blank\" href=https://colab.research.google.com/notebooks/data_table.ipynb>data table notebook</a>'\n",
              "            + ' to learn more about interactive tables.';\n",
              "          element.innerHTML = '';\n",
              "          dataTable['output_type'] = 'display_data';\n",
              "          await google.colab.output.renderOutput(dataTable, element);\n",
              "          const docLink = document.createElement('div');\n",
              "          docLink.innerHTML = docLinkHtml;\n",
              "          element.appendChild(docLink);\n",
              "        }\n",
              "      </script>\n",
              "    </div>\n",
              "  </div>\n",
              "  "
            ],
            "text/plain": [
              "             col1        col2      target\n",
              "count  118.000000  118.000000  118.000000\n",
              "mean     0.054779    0.183102    0.491525\n",
              "std      0.496654    0.519743    0.502060\n",
              "min     -0.830070   -0.769740    0.000000\n",
              "25%     -0.372120   -0.254385    0.000000\n",
              "50%     -0.006336    0.213455    0.000000\n",
              "75%      0.478970    0.646563    1.000000\n",
              "max      1.070900    1.108900    1.000000"
            ]
          },
          "execution_count": 150,
          "metadata": {},
          "output_type": "execute_result"
        }
      ],
      "source": [
        "exam_df.describe()"
      ]
    },
    {
      "cell_type": "code",
      "execution_count": null,
      "metadata": {
        "colab": {
          "base_uri": "https://localhost:8080/",
          "height": 296
        },
        "id": "vA56fmEV5E2e",
        "outputId": "7fccf73a-a512-4419-c7df-c5cd6d5e0aaf"
      },
      "outputs": [
        {
          "data": {
            "text/plain": [
              "<matplotlib.axes._subplots.AxesSubplot at 0x7f0203527610>"
            ]
          },
          "execution_count": 151,
          "metadata": {},
          "output_type": "execute_result"
        },
        {
          "data": {
            "image/png": "[encoded data removed]",
            "text/plain": [
              "<Figure size 432x288 with 1 Axes>"
            ]
          },
          "metadata": {
            "needs_background": "light"
          },
          "output_type": "display_data"
        }
      ],
      "source": [
        "sns.scatterplot(data=exam_df, x=\"col1\", y=\"col2\", hue=\"target\")"
      ]
    },
    {
      "cell_type": "code",
      "execution_count": null,
      "metadata": {
        "id": "IJwM7dJz5lIJ"
      },
      "outputs": [],
      "source": [
        "X = exam_df.drop(\"target\", axis=1)\n",
        "Y = exam_df.iloc[:,-1]"
      ]
    },
    {
      "cell_type": "code",
      "execution_count": null,
      "metadata": {
        "id": "jNQF5cRF64oM"
      },
      "outputs": [],
      "source": [
        "ss = StandardScaler()\n",
        "X_scaled = ss.fit_transform(X)\n",
        "X_scaled=np.insert(X_scaled,0,values=1,axis=1)"
      ]
    },
    {
      "cell_type": "code",
      "execution_count": null,
      "metadata": {
        "id": "cPNajXNu7Bm0"
      },
      "outputs": [],
      "source": [
        "from sklearn.model_selection import train_test_split\n",
        "x_train, x_test, y_train, y_test = train_test_split(X_scaled, Y, test_size=0.3, random_state=42)"
      ]
    },
    {
      "cell_type": "code",
      "execution_count": null,
      "metadata": {
        "id": "iwhK8nPerEeM"
      },
      "outputs": [],
      "source": [
        "from sklearn.preprocessing import PolynomialFeatures\n",
        "poly = PolynomialFeatures(degree = 6, interaction_only=False, include_bias=False)\n",
        "x_train = poly.fit_transform(x_train)\n",
        "x_test = poly.fit_transform(x_test)"
      ]
    },
    {
      "cell_type": "code",
      "execution_count": null,
      "metadata": {
        "colab": {
          "base_uri": "https://localhost:8080/"
        },
        "id": "x1PyatDKrI0e",
        "outputId": "321bfac3-8301-42c0-8b0f-356a9f849d82"
      },
      "outputs": [
        {
          "name": "stdout",
          "output_type": "stream",
          "text": [
            "x_train.shape =  (82, 83)\n",
            "x_test.shape =  (36, 83)\n",
            "y_train.shape =  (82,)\n",
            "y_test.shape =  (36,)\n"
          ]
        }
      ],
      "source": [
        "print(\"x_train.shape = \", x_train.shape)\n",
        "print(\"x_test.shape = \", x_test.shape)\n",
        "print(\"y_train.shape = \", y_train.shape)\n",
        "print(\"y_test.shape = \", y_test.shape)"
      ]
    },
    {
      "cell_type": "markdown",
      "metadata": {
        "id": "rd4myKFEB7oa"
      },
      "source": [
        "#### Question 2 Part 1"
      ]
    },
    {
      "cell_type": "code",
      "execution_count": null,
      "metadata": {
        "colab": {
          "base_uri": "https://localhost:8080/"
        },
        "id": "_n_1eMMG-o-r",
        "outputId": "c1a6b42d-465d-477e-c0d8-eab82158fb04"
      },
      "outputs": [
        {
          "name": "stderr",
          "output_type": "stream",
          "text": [
            "/usr/local/lib/python3.7/dist-packages/ipykernel_launcher.py:8: RuntimeWarning: overflow encountered in exp\n",
            "  \n"
          ]
        },
        {
          "name": "stdout",
          "output_type": "stream",
          "text": [
            "[  0.28072924  -3.59443672   0.77039761   0.28072924  -3.59443672\n",
            "   0.77039761  -1.86237737  -0.0735327    4.31773641   0.28072924\n",
            "  -3.59443672   0.77039761  -1.86237737  -0.0735327    4.31773641\n",
            "   3.61031171  13.32989994   1.06291757  -3.65256312   0.28072924\n",
            "  -3.59443672   0.77039761  -1.86237737  -0.0735327    4.31773641\n",
            "   3.61031171  13.32989994   1.06291757  -3.65256312  16.03431259\n",
            "  -2.2554008   -7.63288276  -2.78798506   1.03780114   0.28072924\n",
            "  -3.59443672   0.77039761  -1.86237737  -0.0735327    4.31773641\n",
            "   3.61031171  13.32989994   1.06291757  -3.65256312  16.03431259\n",
            "  -2.2554008   -7.63288276  -2.78798506   1.03780114  -1.85312342\n",
            "  -7.44662275   3.99239177 -11.88438672  -3.81810431   6.25498723\n",
            "   0.28072924  -3.59443672   0.77039761  -1.86237737  -0.0735327\n",
            "   4.31773641   3.61031171  13.32989994   1.06291757  -3.65256312\n",
            "  16.03431259  -2.2554008   -7.63288276  -2.78798506   1.03780114\n",
            "  -1.85312342  -7.44662275   3.99239177 -11.88438672  -3.81810431\n",
            "   6.25498723 -23.70777402  -1.27796519 -14.31798977  -1.32911137\n",
            " -16.16138888  -7.90461684 -18.63791187]\n"
          ]
        }
      ],
      "source": [
        "n = 1000\n",
        "alpha = 10\n",
        "m,k = x_train.shape\n",
        "beta = np.zeros(k)\n",
        "for i in range(n):\n",
        "    cost_gradient = np.zeros(k)\n",
        "    z = x_train.dot(beta)\n",
        "    predicted = 1/(1+np.exp(-z))\n",
        "    difference = predicted - y_train\n",
        "    for j in range(k):\n",
        "        cost_gradient[j] = np.sum(difference.dot(x_train[:,j]))\n",
        "    for j in range(k):\n",
        "        beta[j] = beta[j] - (alpha/m)*cost_gradient[j]\n",
        "print(beta)"
      ]
    },
    {
      "cell_type": "code",
      "execution_count": null,
      "metadata": {
        "id": "qs05XwEq-sr1"
      },
      "outputs": [],
      "source": [
        "y_pred = 1/(1+np.exp(-(x_test.dot(beta))))\n",
        "y_label = np.zeros(len(y_pred))\n",
        "for i in range(len(y_pred)):\n",
        "    if(y_pred[i]>=0.5):\n",
        "        y_label[i]=1"
      ]
    },
    {
      "cell_type": "code",
      "execution_count": null,
      "metadata": {
        "colab": {
          "base_uri": "https://localhost:8080/"
        },
        "id": "u-Agn_lX7EIt",
        "outputId": "d41aa585-b7a4-41a1-e44e-11e40d11f0e7"
      },
      "outputs": [
        {
          "name": "stdout",
          "output_type": "stream",
          "text": [
            "True Positive =  11\n",
            "True Negative =  14\n",
            "False Positive =  2\n",
            "False Negative =  9\n"
          ]
        }
      ],
      "source": [
        "tp = 0\n",
        "tn = 0\n",
        "fp = 0\n",
        "fn = 0\n",
        "y_test = np.array(y_test).reshape(-1,1)\n",
        "for i in range(len(y_label)):\n",
        "    if(y_test[i]==1 and y_label[i]==1):\n",
        "        tp+=1\n",
        "    if(y_test[i]==1 and y_label[i]==0):\n",
        "        fn+=1\n",
        "    if(y_test[i]==0 and y_label[i]==0):\n",
        "        tn+=1\n",
        "    if(y_test[i]==0 and y_label[i]==1):\n",
        "        fp+=1\n",
        "\n",
        "print(\"True Positive = \", tp)\n",
        "print(\"True Negative = \", tn)\n",
        "print(\"False Positive = \", fp)\n",
        "print(\"False Negative = \", fn)"
      ]
    },
    {
      "cell_type": "code",
      "execution_count": null,
      "metadata": {
        "colab": {
          "base_uri": "https://localhost:8080/"
        },
        "id": "rNylgXo4BnCJ",
        "outputId": "77137949-a550-4c9d-9405-af70eae3b233"
      },
      "outputs": [
        {
          "name": "stdout",
          "output_type": "stream",
          "text": [
            "Accuracy =  0.6944444444444444\n"
          ]
        }
      ],
      "source": [
        "accuracy=(tp+tn)/(tp+tn+fp+fn)\n",
        "print(\"Accuracy = \", accuracy)"
      ]
    },
    {
      "cell_type": "code",
      "execution_count": null,
      "metadata": {
        "colab": {
          "base_uri": "https://localhost:8080/"
        },
        "id": "rd8KfJGuBp0L",
        "outputId": "de5ff0b6-fbce-46b5-a2db-947a52089e45"
      },
      "outputs": [
        {
          "name": "stdout",
          "output_type": "stream",
          "text": [
            "Precision Positive =  0.8461538461538461\n",
            "Recall Positive =  0.55\n",
            "F1_Score Positive =  0.6666666666666667\n",
            "Precision Negative =  0.6086956521739131\n",
            "Recall Negative =  0.875\n",
            "F1_Score Negative =  0.6666666666666667\n"
          ]
        }
      ],
      "source": [
        "precision_pos = tp/(tp+fp)\n",
        "recall_pos = tp/(tp+fn)\n",
        "f1_score_pos = 2*precision_pos*recall_pos/(precision_pos+recall_pos)\n",
        "print(\"Precision Positive = \", precision_pos)\n",
        "print(\"Recall Positive = \", recall_pos)\n",
        "print(\"F1_Score Positive = \", f1_score_pos)\n",
        "\n",
        "\n",
        "precision_neg = tn/(tn+fn)\n",
        "recall_neg = tn/(tn+fp)\n",
        "f1_score_neg = 2*precision_neg*recall_neg/(precision_neg+recall_neg)\n",
        "print(\"Precision Negative = \", precision_neg)\n",
        "print(\"Recall Negative = \", recall_neg)\n",
        "print(\"F1_Score Negative = \", f1_score_pos)"
      ]
    },
    {
      "cell_type": "code",
      "execution_count": null,
      "metadata": {
        "colab": {
          "base_uri": "https://localhost:8080/"
        },
        "id": "efFNEKJKBsgE",
        "outputId": "24f04258-fccd-4ad2-a2a1-ee13dcb6ebc0"
      },
      "outputs": [
        {
          "name": "stdout",
          "output_type": "stream",
          "text": [
            "Macro Precision =  0.7274247491638797\n",
            "Macro Recall =  0.7125\n",
            "Macro F1_Score =  0.6923076923076923\n"
          ]
        }
      ],
      "source": [
        "macro_precision = (precision_pos + precision_neg)/2\n",
        "macro_recall = (recall_pos + recall_neg)/2\n",
        "macro_f1_score = (f1_score_pos + f1_score_neg)/2\n",
        "print(\"Macro Precision = \", macro_precision)\n",
        "print(\"Macro Recall = \", macro_recall)\n",
        "print(\"Macro F1_Score = \", macro_f1_score)"
      ]
    },
    {
      "cell_type": "markdown",
      "metadata": {
        "id": "7b3Yk9AcCDgI"
      },
      "source": [
        "#### Question 2 Part 2\n"
      ]
    },
    {
      "cell_type": "code",
      "execution_count": null,
      "metadata": {
        "id": "BMehTmKH26Tz"
      },
      "outputs": [],
      "source": [
        "lambda_val = 0.2\n",
        "A = x_train.T.dot(x_train)\n",
        "I = np.identity(A.shape[0])\n",
        "B = A + lambda_val * I\n",
        "C = np.linalg.inv(B)\n",
        "D = C.dot(x_train.T)\n",
        "beta = D.dot(y_train)"
      ]
    },
    {
      "cell_type": "code",
      "execution_count": null,
      "metadata": {
        "colab": {
          "base_uri": "https://localhost:8080/"
        },
        "id": "1DLYIsY7CGaH",
        "outputId": "9b085929-bf14-4a02-92ce-a9c14c3452a6"
      },
      "outputs": [
        {
          "name": "stderr",
          "output_type": "stream",
          "text": [
            "/usr/local/lib/python3.7/dist-packages/ipykernel_launcher.py:8: RuntimeWarning: overflow encountered in exp\n",
            "  \n"
          ]
        },
        {
          "name": "stdout",
          "output_type": "stream",
          "text": [
            "[  1.80545544  -2.39563398  -0.41599118   1.80545544  -2.39563398\n",
            "  -0.41599118  -0.4090932   -0.46311724   6.06522759   1.80545544\n",
            "  -2.39563398  -0.41599118  -0.4090932   -0.46311724   6.06522759\n",
            "   4.91551045  12.42416606   1.3731632   -4.94668349   1.80545544\n",
            "  -2.39563398  -0.41599118  -0.4090932   -0.46311724   6.06522759\n",
            "   4.91551045  12.42416606   1.3731632   -4.94668349  16.85901742\n",
            "  -2.92235285  -6.4492812   -3.09396815   3.23794329   1.80545544\n",
            "  -2.39563398  -0.41599118  -0.4090932   -0.46311724   6.06522759\n",
            "   4.91551045  12.42416606   1.3731632   -4.94668349  16.85901742\n",
            "  -2.92235285  -6.4492812   -3.09396815   3.23794329  -1.29792627\n",
            "  -7.1979337    3.41819634 -11.69359872  -3.53381239   3.10430577\n",
            "   1.80545544  -2.39563398  -0.41599118  -0.4090932   -0.46311724\n",
            "   6.06522759   4.91551045  12.42416606   1.3731632   -4.94668349\n",
            "  16.85901742  -2.92235285  -6.4492812   -3.09396815   3.23794329\n",
            "  -1.29792627  -7.1979337    3.41819634 -11.69359872  -3.53381239\n",
            "   3.10430577 -21.51734231   0.23867142 -15.03389879  -0.84090506\n",
            " -14.09505694  -7.81242229 -14.01205529]\n"
          ]
        }
      ],
      "source": [
        "n = 1000\n",
        "alpha = 10\n",
        "m,k = x_train.shape\n",
        "# beta = np.zeros(k)\n",
        "for i in range(n):\n",
        "    cost_gradient = np.zeros(k)\n",
        "    z = x_train.dot(beta)\n",
        "    predicted = 1/(1+np.exp(-z))\n",
        "    difference = predicted - y_train\n",
        "    for j in range(k):\n",
        "        cost_gradient[j] = np.sum(difference.dot(x_train[:,j]))\n",
        "    for j in range(k):\n",
        "        beta[j] = beta[j] - (alpha/m)*cost_gradient[j]\n",
        "print(beta)"
      ]
    },
    {
      "cell_type": "code",
      "execution_count": null,
      "metadata": {
        "id": "TUAU6uUr3RUu"
      },
      "outputs": [],
      "source": [
        "y_pred = 1/(1+np.exp(-(x_test.dot(beta))))\n",
        "y_label = np.zeros(len(y_pred))\n",
        "for i in range(len(y_pred)):\n",
        "    if(y_pred[i]>=0.5):\n",
        "        y_label[i]=1"
      ]
    },
    {
      "cell_type": "code",
      "execution_count": null,
      "metadata": {
        "colab": {
          "base_uri": "https://localhost:8080/"
        },
        "id": "K7HqOG8frxMx",
        "outputId": "683e7305-ff54-4254-bf49-36c44bc3437f"
      },
      "outputs": [
        {
          "name": "stdout",
          "output_type": "stream",
          "text": [
            "True Positive =  19\n",
            "True Negative =  11\n",
            "False Positive =  5\n",
            "False Negative =  1\n"
          ]
        }
      ],
      "source": [
        "tp = 0\n",
        "tn = 0\n",
        "fp = 0\n",
        "fn = 0\n",
        "y_test = np.array(y_test).reshape(-1,1)\n",
        "for i in range(len(y_label)):\n",
        "    if(y_test[i]==1 and y_label[i]==1):\n",
        "        tp+=1\n",
        "    if(y_test[i]==1 and y_label[i]==0):\n",
        "        fn+=1\n",
        "    if(y_test[i]==0 and y_label[i]==0):\n",
        "        tn+=1\n",
        "    if(y_test[i]==0 and y_label[i]==1):\n",
        "        fp+=1\n",
        "\n",
        "print(\"True Positive = \", tp)\n",
        "print(\"True Negative = \", tn)\n",
        "print(\"False Positive = \", fp)\n",
        "print(\"False Negative = \", fn)"
      ]
    },
    {
      "cell_type": "code",
      "execution_count": null,
      "metadata": {
        "colab": {
          "base_uri": "https://localhost:8080/"
        },
        "id": "-BEvKFqO3WVe",
        "outputId": "d6bd455d-3d8c-4ddc-b379-512eec369684"
      },
      "outputs": [
        {
          "name": "stdout",
          "output_type": "stream",
          "text": [
            "Accuracy =  0.8333333333333334\n"
          ]
        }
      ],
      "source": [
        "accuracy=(tp+tn)/(tp+tn+fp+fn)\n",
        "print(\"Accuracy = \", accuracy)"
      ]
    },
    {
      "cell_type": "code",
      "execution_count": null,
      "metadata": {
        "colab": {
          "base_uri": "https://localhost:8080/"
        },
        "id": "D0_EZlep3ZzK",
        "outputId": "0cebb63c-837f-467c-e541-3cfa38ab3194"
      },
      "outputs": [
        {
          "name": "stdout",
          "output_type": "stream",
          "text": [
            "Precision Positive =  0.7916666666666666\n",
            "Recall Positive =  0.95\n",
            "F1_Score Positive =  0.8636363636363635\n",
            "Precision Negative =  0.9166666666666666\n",
            "Recall Negative =  0.6875\n",
            "F1_Score Negative =  0.8636363636363635\n"
          ]
        }
      ],
      "source": [
        "precision_pos = tp/(tp+fp)\n",
        "recall_pos = tp/(tp+fn)\n",
        "f1_score_pos = 2*precision_pos*recall_pos/(precision_pos+recall_pos)\n",
        "print(\"Precision Positive = \", precision_pos)\n",
        "print(\"Recall Positive = \", recall_pos)\n",
        "print(\"F1_Score Positive = \", f1_score_pos)\n",
        "\n",
        "\n",
        "precision_neg = tn/(tn+fn)\n",
        "recall_neg = tn/(tn+fp)\n",
        "f1_score_neg = 2*precision_neg*recall_neg/(precision_neg+recall_neg)\n",
        "print(\"Precision Negative = \", precision_neg)\n",
        "print(\"Recall Negative = \", recall_neg)\n",
        "print(\"F1_Score Negative = \", f1_score_pos)"
      ]
    },
    {
      "cell_type": "code",
      "execution_count": null,
      "metadata": {
        "colab": {
          "base_uri": "https://localhost:8080/"
        },
        "id": "XuzA8Vt83e6B",
        "outputId": "d557fae5-48bc-4e83-fa38-af47e1e3cc03"
      },
      "outputs": [
        {
          "name": "stdout",
          "output_type": "stream",
          "text": [
            "Macro Precision =  0.8541666666666666\n",
            "Macro Recall =  0.81875\n",
            "Macro F1_Score =  0.8246753246753247\n"
          ]
        }
      ],
      "source": [
        "macro_precision = (precision_pos + precision_neg)/2\n",
        "macro_recall = (recall_pos + recall_neg)/2\n",
        "macro_f1_score = (f1_score_pos + f1_score_neg)/2\n",
        "print(\"Macro Precision = \", macro_precision)\n",
        "print(\"Macro Recall = \", macro_recall)\n",
        "print(\"Macro F1_Score = \", macro_f1_score)"
      ]
    }
  ],
  "metadata": {
    "colab": {
      "collapsed_sections": [
        "fJRl6pGCEz5C",
        "2HVS6Vj4KhQI"
      ],
      "provenance": []
    },
    "kernelspec": {
      "display_name": "Python 3",
      "name": "python3"
    },
    "language_info": {
      "name": "python"
    }
  },
  "nbformat": 4,
  "nbformat_minor": 0
}
