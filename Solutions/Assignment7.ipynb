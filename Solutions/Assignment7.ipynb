{
  "cells": [
    {
      "cell_type": "markdown",
      "id": "4348f2a7",
      "metadata": {
        "id": "4348f2a7"
      },
      "source": [
        "Sarthak Narang - 102003627 Co19"
      ]
    },
    {
      "cell_type": "code",
      "execution_count": null,
      "id": "1ea5299f",
      "metadata": {
        "id": "1ea5299f"
      },
      "outputs": [],
      "source": [
        "import numpy as np\n",
        "import pandas as pd \n",
        "import seaborn as sns\n",
        "from sklearn.svm import SVR\n",
        "from sklearn import datasets\n",
        "import matplotlib.pyplot as plt"
      ]
    },
    {
      "cell_type": "code",
      "execution_count": null,
      "id": "aa98a15b",
      "metadata": {
        "id": "aa98a15b"
      },
      "outputs": [],
      "source": [
        "weather = pd.read_csv(\"/Users/Downloads/weather.csv\")\n",
        "boston = datasets.load_boston()\n",
        "mall = pd.read_csv(\"/Users/Downloads/Mall_customers.csv\")\n",
        "diabetes = pd.read_csv(\"/Users/Downloads/diabetes.csv\")\n",
        "cancer = pd.read_csv(\"/Users/Downloads/breast_cancer.csv\")"
      ]
    },
    {
      "cell_type": "code",
      "execution_count": null,
      "id": "Kf9JakZayvD1",
      "metadata": {
        "id": "Kf9JakZayvD1"
      },
      "outputs": [],
      "source": [
        "from sklearn.cluster import KMeans\n",
        "from sklearn.decomposition import PCA\n",
        "from sklearn.preprocessing import LabelEncoder\n",
        "from sklearn.tree import DecisionTreeClassifier\n",
        "from sklearn.preprocessing import StandardScaler\n",
        "from sklearn.neural_network import MLPClassifier\n",
        "from sklearn.preprocessing import StandardScaler\n",
        "from sklearn.cluster import AgglomerativeClustering\n",
        "from sklearn.model_selection import cross_val_score\n",
        "from sklearn.model_selection import train_test_split\n",
        "from sklearn.metrics import classification_report, confusion_matrix"
      ]
    },
    {
      "cell_type": "markdown",
      "id": "dd71d40a",
      "metadata": {
        "id": "dd71d40a"
      },
      "source": [
        "### Q1"
      ]
    },
    {
      "cell_type": "code",
      "execution_count": null,
      "id": "c92ac06e",
      "metadata": {
        "id": "c92ac06e"
      },
      "outputs": [],
      "source": [
        "x = weather.iloc[:,0:4]\n",
        "y = weather.iloc[:,4]"
      ]
    },
    {
      "cell_type": "code",
      "execution_count": null,
      "id": "1d53fd5a",
      "metadata": {
        "id": "1d53fd5a"
      },
      "outputs": [],
      "source": [
        "le = LabelEncoder()"
      ]
    },
    {
      "cell_type": "code",
      "execution_count": null,
      "id": "9eca138a",
      "metadata": {
        "id": "9eca138a"
      },
      "outputs": [],
      "source": [
        "x['Outlook'] = le.fit_transform(x['Outlook'])\n",
        "x['Temp'] = le.fit_transform(x['Temp'])\n",
        "x['Humidity'] = le.fit_transform(x['Humidity'])"
      ]
    },
    {
      "cell_type": "code",
      "execution_count": null,
      "id": "d91e6408",
      "metadata": {
        "id": "d91e6408"
      },
      "outputs": [],
      "source": [
        "x_train, x_test, y_train, y_test = train_test_split(x, y, random_state = 0)"
      ]
    },
    {
      "cell_type": "code",
      "execution_count": null,
      "id": "25e52da3",
      "metadata": {
        "id": "25e52da3"
      },
      "outputs": [],
      "source": [
        "clf = DecisionTreeClassifier()"
      ]
    },
    {
      "cell_type": "code",
      "execution_count": null,
      "id": "888bb765",
      "metadata": {
        "id": "888bb765"
      },
      "outputs": [],
      "source": [
        "clf.fit(x_train, y_train)"
      ]
    },
    {
      "cell_type": "code",
      "execution_count": null,
      "id": "fcb4a36a",
      "metadata": {
        "id": "fcb4a36a"
      },
      "outputs": [],
      "source": [
        "y_pred = clf.predict(x_test)\n",
        "print(y_pred)"
      ]
    },
    {
      "cell_type": "code",
      "execution_count": null,
      "id": "ef515178",
      "metadata": {
        "id": "ef515178"
      },
      "outputs": [],
      "source": [
        "clf.score(x_test, y_test)"
      ]
    },
    {
      "cell_type": "markdown",
      "id": "3311d6b0",
      "metadata": {
        "id": "3311d6b0"
      },
      "source": [
        "Question 02"
      ]
    },
    {
      "cell_type": "code",
      "execution_count": null,
      "id": "a3723a2d",
      "metadata": {
        "id": "a3723a2d"
      },
      "outputs": [],
      "source": [
        "x = pd.DataFrame(boston[\"data\"])\n",
        "x.columns = boston[\"feature_names\"]\n",
        "y = pd.DataFrame(boston[\"target\"])"
      ]
    },
    {
      "cell_type": "code",
      "execution_count": null,
      "id": "46b9c255",
      "metadata": {
        "id": "46b9c255"
      },
      "outputs": [],
      "source": [
        "boston_data = pd.concat([x, y])\n",
        "boston_data.corr()"
      ]
    },
    {
      "cell_type": "code",
      "execution_count": null,
      "id": "f06e67d5",
      "metadata": {
        "id": "f06e67d5"
      },
      "outputs": [],
      "source": [
        "scaler_1 = StandardScaler()\n",
        "x = scaler_1.fit_transform(x)"
      ]
    },
    {
      "cell_type": "code",
      "execution_count": null,
      "id": "208fdddb",
      "metadata": {
        "id": "208fdddb"
      },
      "outputs": [],
      "source": [
        "x_train, x_test, y_train, y_test = train_test_split(x, y, random_state=0)"
      ]
    },
    {
      "cell_type": "code",
      "execution_count": null,
      "id": "9740ff91",
      "metadata": {
        "id": "9740ff91"
      },
      "outputs": [],
      "source": [
        "kernel = ['linear', 'rbf', 'poly']\n",
        "kernel_performance = []\n",
        "for i in kernel:\n",
        "    c_score = []\n",
        "    for c in range(1, 100):\n",
        "        model = SVR(C=c)\n",
        "        model.fit(x_train, y_train)\n",
        "        c_score.append((c,model.score(x_test, y_test)))\n",
        "    kernel_performance.append((i, max(c_score, key=lambda item: item[1])))"
      ]
    },
    {
      "cell_type": "code",
      "execution_count": null,
      "id": "3d7f8667",
      "metadata": {
        "id": "3d7f8667"
      },
      "outputs": [],
      "source": [
        "print(kernel_performance)"
      ]
    },
    {
      "cell_type": "markdown",
      "id": "19431461",
      "metadata": {
        "id": "19431461"
      },
      "source": [
        "Question 03"
      ]
    },
    {
      "cell_type": "code",
      "execution_count": null,
      "id": "859987bc",
      "metadata": {
        "id": "859987bc"
      },
      "outputs": [],
      "source": [
        "mall.corr()"
      ]
    },
    {
      "cell_type": "code",
      "execution_count": null,
      "id": "9159a29b",
      "metadata": {
        "id": "9159a29b"
      },
      "outputs": [],
      "source": [
        "le = LabelEncoder()\n",
        "mall[\"Gender\"] = le.fit_transform(mall[\"Gender\"])"
      ]
    },
    {
      "cell_type": "code",
      "execution_count": null,
      "id": "cc4e95e8",
      "metadata": {
        "id": "cc4e95e8"
      },
      "outputs": [],
      "source": [
        "mall.drop(\"CustomerID\", axis=1, inplace=True)"
      ]
    },
    {
      "cell_type": "code",
      "execution_count": null,
      "id": "7bf28c2e",
      "metadata": {
        "id": "7bf28c2e"
      },
      "outputs": [],
      "source": [
        "wcss = []\n",
        "for i in range(1, 11):\n",
        "    km = KMeans(n_clusters=i)\n",
        "    km.fit(mall)\n",
        "    wcss.append(km.inertia_)"
      ]
    },
    {
      "cell_type": "code",
      "execution_count": null,
      "id": "a2c64e9a",
      "metadata": {
        "id": "a2c64e9a"
      },
      "outputs": [],
      "source": [
        "plt.figure(figsize=(12,6))\n",
        "plt.plot(range(1,11),wcss)\n",
        "plt.plot(range(1,11),wcss, linewidth=2, color=\"red\", marker =\"8\")\n",
        "plt.xlabel(\"K Value\")\n",
        "plt.xticks(np.arange(1,11,1))\n",
        "plt.ylabel(\"WCSS\")\n",
        "plt.show()"
      ]
    },
    {
      "cell_type": "code",
      "execution_count": null,
      "id": "8f2afa39",
      "metadata": {
        "id": "8f2afa39"
      },
      "outputs": [],
      "source": [
        "km1=KMeans(n_clusters=5)\n",
        "km1.fit(mall)\n",
        "y=km1.predict(mall)\n",
        "mall[\"label\"] = y"
      ]
    },
    {
      "cell_type": "code",
      "execution_count": null,
      "id": "78002e68",
      "metadata": {
        "id": "78002e68"
      },
      "outputs": [],
      "source": [
        "mall.head()"
      ]
    },
    {
      "cell_type": "markdown",
      "id": "aaff63e8",
      "metadata": {
        "id": "aaff63e8"
      },
      "source": [
        "Question 04"
      ]
    },
    {
      "cell_type": "code",
      "execution_count": null,
      "id": "72fb3762",
      "metadata": {
        "id": "72fb3762"
      },
      "outputs": [],
      "source": [
        "intervals = [15, 20, 30, 40, 50, 60, 70]\n",
        "col = mall['Age']\n",
        "mall['Age Groups'] = pd.cut(x=col, bins=intervals)\n",
        "mall['Age Groups'] "
      ]
    },
    {
      "cell_type": "code",
      "execution_count": null,
      "id": "3c129871",
      "metadata": {
        "id": "3c129871"
      },
      "outputs": [],
      "source": [
        "mall.head()"
      ]
    },
    {
      "cell_type": "code",
      "execution_count": null,
      "id": "b7505e92",
      "metadata": {
        "id": "b7505e92"
      },
      "outputs": [],
      "source": [
        "mall = pd.get_dummies(mall)"
      ]
    },
    {
      "cell_type": "code",
      "execution_count": null,
      "id": "d77114f5",
      "metadata": {
        "id": "d77114f5"
      },
      "outputs": [],
      "source": [
        "mall.head()"
      ]
    },
    {
      "cell_type": "code",
      "execution_count": null,
      "id": "bd65bc57",
      "metadata": {
        "id": "bd65bc57"
      },
      "outputs": [],
      "source": [
        "mall.drop([\"Age\"], axis=1, inplace=True)"
      ]
    },
    {
      "cell_type": "code",
      "execution_count": null,
      "id": "485a4f2b",
      "metadata": {
        "id": "485a4f2b"
      },
      "outputs": [],
      "source": [
        "pca = PCA(n_components=10)\n",
        "mall = pca.fit_transform(mall)"
      ]
    },
    {
      "cell_type": "code",
      "execution_count": null,
      "id": "4629a171",
      "metadata": {
        "id": "4629a171"
      },
      "outputs": [],
      "source": [
        "clustering_model = AgglomerativeClustering(n_clusters=5, affinity='euclidean', linkage='ward')\n",
        "clustering_model.fit(mall)\n",
        "y_pred = clustering_model.labels_"
      ]
    },
    {
      "cell_type": "code",
      "execution_count": null,
      "id": "2a1c51ba",
      "metadata": {
        "id": "2a1c51ba"
      },
      "outputs": [],
      "source": [
        "y_pred"
      ]
    },
    {
      "cell_type": "markdown",
      "id": "7bc47086",
      "metadata": {
        "id": "7bc47086"
      },
      "source": [
        "Question 05"
      ]
    },
    {
      "cell_type": "code",
      "execution_count": null,
      "id": "11ab9c2b",
      "metadata": {
        "id": "11ab9c2b"
      },
      "outputs": [],
      "source": [
        "diabetes"
      ]
    },
    {
      "cell_type": "code",
      "execution_count": null,
      "id": "05141531",
      "metadata": {
        "id": "05141531"
      },
      "outputs": [],
      "source": [
        "x = diabetes.iloc[:,0:8]\n",
        "y = diabetes.iloc[:,8]"
      ]
    },
    {
      "cell_type": "code",
      "execution_count": null,
      "id": "56ccdced",
      "metadata": {
        "id": "56ccdced"
      },
      "outputs": [],
      "source": [
        "x_train, x_test, y_train, y_test = train_test_split(x, y, random_state=0)"
      ]
    },
    {
      "cell_type": "code",
      "execution_count": null,
      "id": "dd021c71",
      "metadata": {
        "id": "dd021c71"
      },
      "outputs": [],
      "source": [
        "scaler = StandardScaler()\n",
        "scaler.fit(x_train)"
      ]
    },
    {
      "cell_type": "code",
      "execution_count": null,
      "id": "6a83ea14",
      "metadata": {
        "id": "6a83ea14"
      },
      "outputs": [],
      "source": [
        "x_train = scaler.transform(x_train)\n",
        "x_test = scaler.transform(x_test)"
      ]
    },
    {
      "cell_type": "code",
      "execution_count": null,
      "id": "bec5ef8c",
      "metadata": {
        "id": "bec5ef8c"
      },
      "outputs": [],
      "source": [
        "MLP = MLPClassifier(hidden_layer_sizes=(10,10,10), max_iter=1000)\n",
        "MLP.fit(x_train, y_train)"
      ]
    },
    {
      "cell_type": "code",
      "execution_count": null,
      "id": "ff266ddb",
      "metadata": {
        "id": "ff266ddb"
      },
      "outputs": [],
      "source": [
        "y_pred = MLP.predict(x_test)"
      ]
    },
    {
      "cell_type": "code",
      "execution_count": null,
      "id": "223c37f6",
      "metadata": {
        "id": "223c37f6"
      },
      "outputs": [],
      "source": [
        "print(confusion_matrix(y_test, y_pred))\n",
        "print(classification_report(y_test, y_pred))"
      ]
    },
    {
      "cell_type": "code",
      "execution_count": null,
      "id": "1251248c",
      "metadata": {
        "id": "1251248c"
      },
      "outputs": [],
      "source": [
        "MLP.score(x_test, y_test)"
      ]
    },
    {
      "cell_type": "markdown",
      "id": "3fbe58c4",
      "metadata": {
        "id": "3fbe58c4"
      },
      "source": [
        "Question 06"
      ]
    },
    {
      "cell_type": "code",
      "execution_count": null,
      "id": "3af23da9",
      "metadata": {
        "id": "3af23da9"
      },
      "outputs": [],
      "source": [
        "cancer.head()"
      ]
    },
    {
      "cell_type": "code",
      "execution_count": null,
      "id": "b7ff9563",
      "metadata": {
        "id": "b7ff9563"
      },
      "outputs": [],
      "source": [
        "np.unique(cancer[\"diagnosis\"])"
      ]
    },
    {
      "cell_type": "code",
      "execution_count": null,
      "id": "42c0fbf2",
      "metadata": {
        "id": "42c0fbf2"
      },
      "outputs": [],
      "source": [
        "le = LabelEncoder()"
      ]
    },
    {
      "cell_type": "code",
      "execution_count": null,
      "id": "2a34e9f4",
      "metadata": {
        "id": "2a34e9f4"
      },
      "outputs": [],
      "source": [
        "x = cancer.drop(columns=[\"diagnosis\"])"
      ]
    },
    {
      "cell_type": "code",
      "execution_count": null,
      "id": "769a7087",
      "metadata": {
        "id": "769a7087"
      },
      "outputs": [],
      "source": [
        "y = le.fit_transform(cancer.iloc[:,0])\n",
        "y = pd.DataFrame(y)"
      ]
    },
    {
      "cell_type": "code",
      "execution_count": null,
      "id": "e6529c62",
      "metadata": {
        "id": "e6529c62"
      },
      "outputs": [],
      "source": [
        "x_train, x_test, y_train, y_test = train_test_split(x, y, random_state=0)"
      ]
    },
    {
      "cell_type": "code",
      "execution_count": null,
      "id": "bcfe6a5b",
      "metadata": {
        "id": "bcfe6a5b",
        "outputId": "a44ccdfc-e06c-4e46-a8c7-fc44105914af"
      },
      "outputs": [
        {
          "data": {
            "text/plain": [
              "StandardScaler()"
            ]
          },
          "execution_count": 47,
          "metadata": {},
          "output_type": "execute_result"
        }
      ],
      "source": [
        "scaler = StandardScaler()\n",
        "scaler.fit(x_train)"
      ]
    },
    {
      "cell_type": "code",
      "execution_count": null,
      "id": "f4d65e5e",
      "metadata": {
        "id": "f4d65e5e"
      },
      "outputs": [],
      "source": [
        "x_train = scaler.transform(x_train)\n",
        "x_test = scaler.transform(x_test)"
      ]
    },
    {
      "cell_type": "code",
      "execution_count": null,
      "id": "885102f3",
      "metadata": {
        "id": "885102f3"
      },
      "outputs": [],
      "source": [
        "MLP = MLPClassifier(hidden_layer_sizes=(10,10,10), max_iter=1000)\n",
        "MLP.fit(x_train, y_train)"
      ]
    },
    {
      "cell_type": "code",
      "execution_count": null,
      "id": "c686fe40",
      "metadata": {
        "id": "c686fe40"
      },
      "outputs": [],
      "source": [
        "y_pred = MLP.predict(x_test)"
      ]
    },
    {
      "cell_type": "code",
      "execution_count": null,
      "id": "897f2590",
      "metadata": {
        "id": "897f2590"
      },
      "outputs": [],
      "source": [
        "print(confusion_matrix(y_test, y_pred))\n",
        "print(classification_report(y_test, y_pred))"
      ]
    },
    {
      "cell_type": "code",
      "execution_count": null,
      "id": "f26b233f",
      "metadata": {
        "id": "f26b233f"
      },
      "outputs": [],
      "source": [
        "MLP.score(x_test, y_test)"
      ]
    }
  ],
  "metadata": {
    "colab": {
      "provenance": []
    },
    "kernelspec": {
      "display_name": "Python 3 (ipykernel)",
      "language": "python",
      "name": "python3"
    },
    "language_info": {
      "codemirror_mode": {
        "name": "ipython",
        "version": 3
      },
      "file_extension": ".py",
      "mimetype": "text/x-python",
      "name": "python",
      "nbconvert_exporter": "python",
      "pygments_lexer": "ipython3",
      "version": "3.9.12"
    }
  },
  "nbformat": 4,
  "nbformat_minor": 5
}
